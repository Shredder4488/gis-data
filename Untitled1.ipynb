{
 "cells": [
  {
   "cell_type": "code",
   "execution_count": 8,
   "metadata": {},
   "outputs": [
    {
     "data": {
      "text/html": [
       "\n",
       "        <iframe\n",
       "            width=\"1000\"\n",
       "            height=\"600\"\n",
       "            src=\"https://ipyleaflet.readthedocs.io/en/latest/\"\n",
       "            frameborder=\"0\"\n",
       "            allowfullscreen\n",
       "        ></iframe>\n",
       "        "
      ],
      "text/plain": [
       "<IPython.lib.display.IFrame at 0x25978f55430>"
      ]
     },
     "metadata": {},
     "output_type": "display_data"
    }
   ],
   "source": [
    "from IPython.display import IFrame\n",
    "documentation = IFrame(src='https://ipyleaflet.readthedocs.io/en/latest/', width=1000, height=600)\n",
    "display(documentation)"
   ]
  },
  {
   "cell_type": "code",
   "execution_count": 2,
   "metadata": {},
   "outputs": [
    {
     "data": {
      "application/vnd.jupyter.widget-view+json": {
       "model_id": "ec6325a98cb24c85a65a674976361735",
       "version_major": 2,
       "version_minor": 0
      },
      "text/plain": [
       "Map(center=[52.204793, 360.121558], controls=(ZoomControl(options=['position', 'zoom_in_text', 'zoom_in_title'…"
      ]
     },
     "metadata": {},
     "output_type": "display_data"
    }
   ],
   "source": [
    "from ipyleaflet import Map, basemaps, basemap_to_tiles\n",
    "\n",
    "m = Map(\n",
    "    basemap=basemap_to_tiles(basemaps.NASAGIBS.ModisTerraTrueColorCR, \"2017-04-08\"),\n",
    "    center=(52.204793, 360.121558),\n",
    "    zoom=4\n",
    ")\n",
    "\n",
    "m"
   ]
  },
  {
   "cell_type": "code",
   "execution_count": 9,
   "metadata": {},
   "outputs": [
    {
     "data": {
      "application/vnd.jupyter.widget-view+json": {
       "model_id": "356ce968b2f64103b6017417caaa8fba",
       "version_major": 2,
       "version_minor": 0
      },
      "text/plain": [
       "Map(center=[20.5937, 78.9629], controls=(ZoomControl(options=['position', 'zoom_in_text', 'zoom_in_title', 'zo…"
      ]
     },
     "metadata": {},
     "output_type": "display_data"
    }
   ],
   "source": [
    "from ipyleaflet import Marker, Icon, Map\n",
    "\n",
    "center = (20.5937,78.9629)\n",
    "\n",
    "m = Map(center=center, zoom=10)\n",
    "icon = Icon(icon_url='https://leafletjs.com/examples/custom-icons/leaf-green.png', icon_size=[38, 95], icon_anchor=[22,94])\n",
    "mark = Marker(location=center, icon=icon, rotation_angle=90, rotation_origin='22px 94px')\n",
    "m.add_layer(mark);\n",
    "\n",
    "m"
   ]
  },
  {
   "cell_type": "code",
   "execution_count": 10,
   "metadata": {},
   "outputs": [
    {
     "data": {
      "application/vnd.jupyter.widget-view+json": {
       "model_id": "73237e0aff26422d82cc5ac79e5c933e",
       "version_major": 2,
       "version_minor": 0
      },
      "text/plain": [
       "Map(center=[20.5937, 78.9629], controls=(ZoomControl(options=['position', 'zoom_in_text', 'zoom_in_title', 'zo…"
      ]
     },
     "metadata": {},
     "output_type": "display_data"
    }
   ],
   "source": [
    "center = (20.5937,78.9629)\n",
    "\n",
    "m = Map(center=center, zoom=10)\n",
    "m"
   ]
  },
  {
   "cell_type": "code",
   "execution_count": 13,
   "metadata": {},
   "outputs": [],
   "source": [
    "from ipyleaflet import Map, basemaps, basemap_to_tiles, Circle\n",
    "\n"
   ]
  },
  {
   "cell_type": "code",
   "execution_count": 12,
   "metadata": {},
   "outputs": [
    {
     "data": {
      "application/vnd.jupyter.widget-view+json": {
       "model_id": "a9ed85dac4164f07827f97ac8518804f",
       "version_major": 2,
       "version_minor": 0
      },
      "text/plain": [
       "Map(center=[20.5937, 78.9629], controls=(ZoomControl(options=['position', 'zoom_in_text', 'zoom_in_title', 'zo…"
      ]
     },
     "metadata": {},
     "output_type": "display_data"
    }
   ],
   "source": [
    "center = (20.5937,78.9629)\n",
    "\n",
    "m = Map(center=center, zoom=10)\n",
    "m"
   ]
  },
  {
   "cell_type": "code",
   "execution_count": 15,
   "metadata": {},
   "outputs": [
    {
     "data": {
      "application/vnd.jupyter.widget-view+json": {
       "model_id": "1b8d6b10f11f4d28a4bde8c54196de71",
       "version_major": 2,
       "version_minor": 0
      },
      "text/plain": [
       "Map(center=[20.5937, 78.9629], controls=(ZoomControl(options=['position', 'zoom_in_text', 'zoom_in_title', 'zo…"
      ]
     },
     "metadata": {},
     "output_type": "display_data"
    }
   ],
   "source": [
    "watercolor = basemap_to_tiles(basemaps.Stamen.Watercolor)\n",
    "\n",
    "m = Map(layers=(watercolor, ), center=(20.5937,78.9629), zoom=5)\n",
    "\n",
    "circle = Circle()\n",
    "circle.location = (50, 354)\n",
    "circle.radius = 50000\n",
    "circle.color = \"green\"\n",
    "circle.fill_color = \"green\"\n",
    "\n",
    "m.add_layer(circle)\n",
    "m"
   ]
  },
  {
   "cell_type": "code",
   "execution_count": 16,
   "metadata": {},
   "outputs": [
    {
     "data": {
      "application/vnd.jupyter.widget-view+json": {
       "model_id": "f12f8a3bbf2543d694dceb337f7b16d1",
       "version_major": 2,
       "version_minor": 0
      },
      "text/plain": [
       "interactive(children=(RadioButtons(description='map types:', options=('Positron', 'DarkMatter', 'WorldStreetMa…"
      ]
     },
     "metadata": {},
     "output_type": "display_data"
    },
    {
     "data": {
      "text/plain": [
       "<function __main__.toggle_maps(map)>"
      ]
     },
     "execution_count": 16,
     "metadata": {},
     "output_type": "execute_result"
    }
   ],
   "source": [
    "\n",
    "# I have yet to find a comprehensive list of map types, however, below are several examples\n",
    "\n",
    "import ipyleaflet\n",
    "import ipywidgets\n",
    "from ipyleaflet import basemaps, Map\n",
    "\n",
    "radio_button = ipywidgets.RadioButtons(options=['Positron', 'DarkMatter', 'WorldStreetMap', 'DeLorme', \n",
    "                                                'WorldTopoMap', 'WorldImagery', 'NatGeoWorldMap', 'HikeBike', \n",
    "                                                'HyddaFull', 'Night', 'ModisTerra', 'Mapnik', 'HOT', 'OpenTopoMap', \n",
    "                                                'Toner', 'Watercolor'],\n",
    "                                       value='Positron', \n",
    "                                       description='map types:')\n",
    "\n",
    "def toggle_maps(map):\n",
    "    if map == 'Positron': m = Map(zoom=2, basemap=basemaps.CartoDB.Positron)\n",
    "    if map == 'DarkMatter': m = Map(zoom=1, basemap=basemaps.CartoDB.DarkMatter)\n",
    "    if map == 'WorldStreetMap': m = Map(center=(40.67, -73.94), zoom=10, basemap=basemaps.Esri.WorldStreetMap)\n",
    "    if map == 'DeLorme': m = Map(center=(40, -99), zoom=4, basemap=basemaps.Esri.DeLorme)\n",
    "    if map == 'WorldTopoMap': m = Map(center=(40, -99), zoom=4, basemap=basemaps.Esri.WorldTopoMap)\n",
    "    if map == 'WorldImagery': m = Map(center=(40, -99), zoom=4, basemap=basemaps.Esri.WorldImagery)\n",
    "    if map == 'NatGeoWorldMap': m = Map(center=(40, -99), zoom=4, basemap=basemaps.Esri.NatGeoWorldMap)\n",
    "    if map == 'HikeBike': m = Map(center=(39.73, -104.98), zoom=10, basemap=basemaps.HikeBike.HikeBike)\n",
    "    if map == 'HyddaFull': m = Map(center=(40, -99), zoom=4, basemap=basemaps.Hydda.Full)\n",
    "    if map == 'Night': m = Map(center=(40, -99), zoom=4, basemap=basemaps.NASAGIBS.ViirsEarthAtNight2012)\n",
    "    if map == 'ModisTerra': m = Map(center=(40, -99), zoom=4, basemap=basemaps.NASAGIBS.ModisTerraTrueColorCR)\n",
    "    if map == 'Mapnik': m = Map(center=(40, -99), zoom=4, basemap=basemaps.OpenStreetMap.Mapnik)\n",
    "    if map == 'HOT': m = Map(center=(40, -99), zoom=4, basemap=basemaps.OpenStreetMap.HOT)\n",
    "    if map == 'OpenTopoMap': m = Map(center=(40, -99), zoom=4, basemap=basemaps.OpenTopoMap)\n",
    "    if map == 'Toner': m = Map(center=(40, -99), zoom=4, basemap=basemaps.Stamen.Toner)\n",
    "    if map == 'Watercolor': m = Map(center=(40, -99), zoom=4, basemap=basemaps.Stamen.Watercolor)\n",
    "    display(m)\n",
    "        \n",
    "ipywidgets.interact(toggle_maps, map=radio_button)"
   ]
  },
  {
   "cell_type": "code",
   "execution_count": null,
   "metadata": {},
   "outputs": [],
   "source": []
  }
 ],
 "metadata": {
  "kernelspec": {
   "display_name": "Python 3",
   "language": "python",
   "name": "python3"
  },
  "language_info": {
   "codemirror_mode": {
    "name": "ipython",
    "version": 3
   },
   "file_extension": ".py",
   "mimetype": "text/x-python",
   "name": "python",
   "nbconvert_exporter": "python",
   "pygments_lexer": "ipython3",
   "version": "3.8.5"
  }
 },
 "nbformat": 4,
 "nbformat_minor": 4
}
