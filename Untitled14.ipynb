{
 "cells": [
  {
   "cell_type": "code",
   "execution_count": 1,
   "metadata": {},
   "outputs": [
    {
     "name": "stdout",
     "output_type": "stream",
     "text": [
      "Requirement already satisfied: easyocr in c:\\users\\parul\\anaconda3\\lib\\site-packages (1.4)\n",
      "Requirement already satisfied: scikit-image in c:\\users\\parul\\anaconda3\\lib\\site-packages (from easyocr) (0.17.2)\n",
      "Requirement already satisfied: scipy in c:\\users\\parul\\anaconda3\\lib\\site-packages (from easyocr) (1.7.1)\n",
      "Requirement already satisfied: PyYAML in c:\\users\\parul\\anaconda3\\lib\\site-packages (from easyocr) (5.3.1)\n",
      "Requirement already satisfied: Pillow in c:\\users\\parul\\anaconda3\\lib\\site-packages (from easyocr) (8.0.1)\n",
      "Requirement already satisfied: python-bidi in c:\\users\\parul\\anaconda3\\lib\\site-packages (from easyocr) (0.4.2)\n",
      "Requirement already satisfied: torchvision>=0.5 in c:\\users\\parul\\anaconda3\\lib\\site-packages (from easyocr) (0.10.0)\n",
      "Requirement already satisfied: numpy in c:\\users\\parul\\anaconda3\\lib\\site-packages (from easyocr) (1.20.3)\n",
      "Requirement already satisfied: torch in c:\\users\\parul\\anaconda3\\lib\\site-packages (from easyocr) (1.9.0)\n",
      "Requirement already satisfied: opencv-python in c:\\users\\parul\\anaconda3\\lib\\site-packages (from easyocr) (4.5.3.56)\n",
      "Requirement already satisfied: matplotlib!=3.0.0,>=2.0.0 in c:\\users\\parul\\anaconda3\\lib\\site-packages (from scikit-image->easyocr) (3.4.2)\n",
      "Requirement already satisfied: networkx>=2.0 in c:\\users\\parul\\anaconda3\\lib\\site-packages (from scikit-image->easyocr) (2.5)\n",
      "Requirement already satisfied: imageio>=2.3.0 in c:\\users\\parul\\anaconda3\\lib\\site-packages (from scikit-image->easyocr) (2.9.0)\n",
      "Requirement already satisfied: tifffile>=2019.7.26 in c:\\users\\parul\\anaconda3\\lib\\site-packages (from scikit-image->easyocr) (2020.10.1)\n",
      "Requirement already satisfied: PyWavelets>=1.1.1 in c:\\users\\parul\\anaconda3\\lib\\site-packages (from scikit-image->easyocr) (1.1.1)\n",
      "Requirement already satisfied: six in c:\\users\\parul\\anaconda3\\lib\\site-packages (from python-bidi->easyocr) (1.16.0)\n",
      "Requirement already satisfied: typing-extensions in c:\\users\\parul\\anaconda3\\lib\\site-packages (from torch->easyocr) (3.7.4.3)\n",
      "Requirement already satisfied: cycler>=0.10 in c:\\users\\parul\\anaconda3\\lib\\site-packages (from matplotlib!=3.0.0,>=2.0.0->scikit-image->easyocr) (0.10.0)\n",
      "Requirement already satisfied: kiwisolver>=1.0.1 in c:\\users\\parul\\anaconda3\\lib\\site-packages (from matplotlib!=3.0.0,>=2.0.0->scikit-image->easyocr) (1.3.1)\n",
      "Requirement already satisfied: pyparsing>=2.2.1 in c:\\users\\parul\\anaconda3\\lib\\site-packages (from matplotlib!=3.0.0,>=2.0.0->scikit-image->easyocr) (2.4.7)\n",
      "Requirement already satisfied: python-dateutil>=2.7 in c:\\users\\parul\\anaconda3\\lib\\site-packages (from matplotlib!=3.0.0,>=2.0.0->scikit-image->easyocr) (2.8.1)\n",
      "Requirement already satisfied: decorator>=4.3.0 in c:\\users\\parul\\anaconda3\\lib\\site-packages (from networkx>=2.0->scikit-image->easyocr) (4.4.2)\n"
     ]
    }
   ],
   "source": [
    "!pip install easyocr"
   ]
  },
  {
   "cell_type": "code",
   "execution_count": null,
   "metadata": {},
   "outputs": [],
   "source": [
    "import easyocr"
   ]
  },
  {
   "cell_type": "code",
   "execution_count": null,
   "metadata": {},
   "outputs": [],
   "source": []
  }
 ],
 "metadata": {
  "kernelspec": {
   "display_name": "Python 3",
   "language": "python",
   "name": "python3"
  },
  "language_info": {
   "codemirror_mode": {
    "name": "ipython",
    "version": 3
   },
   "file_extension": ".py",
   "mimetype": "text/x-python",
   "name": "python",
   "nbconvert_exporter": "python",
   "pygments_lexer": "ipython3",
   "version": "3.8.5"
  }
 },
 "nbformat": 4,
 "nbformat_minor": 4
}
