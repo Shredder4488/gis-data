{
 "cells": [
  {
   "cell_type": "code",
   "execution_count": 1,
   "metadata": {},
   "outputs": [
    {
     "name": "stderr",
     "output_type": "stream",
     "text": [
      "ERROR: Could not find a version that satisfies the requirement acrpy (from versions: none)\n",
      "ERROR: No matching distribution found for acrpy\n"
     ]
    },
    {
     "ename": "ModuleNotFoundError",
     "evalue": "No module named 'arcpy'",
     "output_type": "error",
     "traceback": [
      "\u001b[1;31m---------------------------------------------------------------------------\u001b[0m",
      "\u001b[1;31mModuleNotFoundError\u001b[0m                       Traceback (most recent call last)",
      "\u001b[1;32m<ipython-input-1-8dd78fb8aac4>\u001b[0m in \u001b[0;36m<module>\u001b[1;34m\u001b[0m\n\u001b[0;32m      1\u001b[0m \u001b[0mget_ipython\u001b[0m\u001b[1;33m(\u001b[0m\u001b[1;33m)\u001b[0m\u001b[1;33m.\u001b[0m\u001b[0msystem\u001b[0m\u001b[1;33m(\u001b[0m\u001b[1;34m'pip install acrpy'\u001b[0m\u001b[1;33m)\u001b[0m\u001b[1;33m\u001b[0m\u001b[1;33m\u001b[0m\u001b[0m\n\u001b[1;32m----> 2\u001b[1;33m \u001b[1;32mfrom\u001b[0m \u001b[0marcpy\u001b[0m \u001b[1;32mimport\u001b[0m \u001b[0menv\u001b[0m\u001b[1;33m\u001b[0m\u001b[1;33m\u001b[0m\u001b[0m\n\u001b[0m\u001b[0;32m      3\u001b[0m \u001b[1;33m\u001b[0m\u001b[0m\n\u001b[0;32m      4\u001b[0m \u001b[0menv\u001b[0m\u001b[1;33m.\u001b[0m\u001b[0mworkspace\u001b[0m \u001b[1;33m=\u001b[0m \u001b[1;34mr\"C:\\Users\\parul\\anaconda3\\machine learning and python projects\\Untitled Folder\\Test_Service_File_geodatabase.gdb\"\u001b[0m\u001b[1;33m\u001b[0m\u001b[1;33m\u001b[0m\u001b[0m\n\u001b[0;32m      5\u001b[0m \u001b[1;33m\u001b[0m\u001b[0m\n",
      "\u001b[1;31mModuleNotFoundError\u001b[0m: No module named 'arcpy'"
     ]
    }
   ],
   "source": [
    "!pip install acrpy\n",
    "from arcpy import env\n",
    "\n",
    "env.workspace = r\"C:\\Users\\parul\\anaconda3\\machine learning and python projects\\Untitled Folder\\Test_Service_File_geodatabase.gdb\"\n",
    "\n",
    "datasetList = arcpy.ListTables(\"*\")\n",
    "\n",
    "for dataset in datasetList:\n",
    "     print (dataset)"
   ]
  },
  {
   "cell_type": "code",
   "execution_count": 6,
   "metadata": {},
   "outputs": [
    {
     "name": "stdout",
     "output_type": "stream",
     "text": [
      "Collecting geopandas\n",
      "Note: you may need to restart the kernel to use updated packages.  Using cached geopandas-0.9.0-py2.py3-none-any.whl (994 kB)\n",
      "Requirement already satisfied: pandas>=0.24.0 in c:\\users\\parul\\anaconda3\\lib\\site-packages (from geopandas) (0.25.3)\n",
      "Collecting shapely>=1.6\n",
      "  Using cached Shapely-1.7.1-cp38-cp38-win_amd64.whl (1.0 MB)\n",
      "Collecting pyproj>=2.2.0\n",
      "  Using cached pyproj-3.1.0-cp38-cp38-win_amd64.whl (14.5 MB)\n",
      "Collecting fiona>=1.8\n",
      "  Using cached Fiona-1.8.20.tar.gz (1.3 MB)\n",
      "\n"
     ]
    },
    {
     "name": "stderr",
     "output_type": "stream",
     "text": [
      "    ERROR: Command errored out with exit status 1:\n",
      "     command: 'C:\\Users\\parul\\anaconda3\\python.exe' -c 'import sys, setuptools, tokenize; sys.argv[0] = '\"'\"'C:\\\\Users\\\\parul\\\\AppData\\\\Local\\\\Temp\\\\pip-install-1ll6amdt\\\\fiona\\\\setup.py'\"'\"'; __file__='\"'\"'C:\\\\Users\\\\parul\\\\AppData\\\\Local\\\\Temp\\\\pip-install-1ll6amdt\\\\fiona\\\\setup.py'\"'\"';f=getattr(tokenize, '\"'\"'open'\"'\"', open)(__file__);code=f.read().replace('\"'\"'\\r\\n'\"'\"', '\"'\"'\\n'\"'\"');f.close();exec(compile(code, __file__, '\"'\"'exec'\"'\"'))' egg_info --egg-base 'C:\\Users\\parul\\AppData\\Local\\Temp\\pip-pip-egg-info-7xy0sm6z'\n",
      "         cwd: C:\\Users\\parul\\AppData\\Local\\Temp\\pip-install-1ll6amdt\\fiona\\\n",
      "    Complete output (1 lines):\n",
      "    A GDAL API version must be specified. Provide a path to gdal-config using a GDAL_CONFIG environment variable or use a GDAL_VERSION environment variable.\n",
      "    ----------------------------------------\n",
      "ERROR: Command errored out with exit status 1: python setup.py egg_info Check the logs for full command output.\n"
     ]
    }
   ],
   "source": [
    "pip install geopandas"
   ]
  },
  {
   "cell_type": "code",
   "execution_count": 7,
   "metadata": {},
   "outputs": [
    {
     "ename": "ModuleNotFoundError",
     "evalue": "No module named 'acrpy'",
     "output_type": "error",
     "traceback": [
      "\u001b[1;31m---------------------------------------------------------------------------\u001b[0m",
      "\u001b[1;31mModuleNotFoundError\u001b[0m                       Traceback (most recent call last)",
      "\u001b[1;32m<ipython-input-7-618a2f5d5da5>\u001b[0m in \u001b[0;36m<module>\u001b[1;34m\u001b[0m\n\u001b[1;32m----> 1\u001b[1;33m \u001b[1;32mimport\u001b[0m \u001b[0macrpy\u001b[0m\u001b[1;33m\u001b[0m\u001b[1;33m\u001b[0m\u001b[0m\n\u001b[0m",
      "\u001b[1;31mModuleNotFoundError\u001b[0m: No module named 'acrpy'"
     ]
    }
   ],
   "source": [
    "import acrpy"
   ]
  },
  {
   "cell_type": "code",
   "execution_count": 2,
   "metadata": {},
   "outputs": [
    {
     "name": "stdout",
     "output_type": "stream",
     "text": [
      "Collecting package metadata (current_repodata.json): ...working... done\n",
      "Solving environment: ...working... failed with initial frozen solve. Retrying with flexible solve.\n",
      "Solving environment: ...working... failed with repodata from current_repodata.json, will retry with next repodata source.\n",
      "Collecting package metadata (repodata.json): ...working... done\n",
      "Solving environment: ...working... failed with initial frozen solve. Retrying with flexible solve.\n",
      "Solving environment: ...working... \n",
      "Found conflicts! Looking for incompatible packages.\n",
      "This can take several minutes.  Press CTRL-C to abort.\n",
      "failed\n",
      "\n",
      "Note: you may need to restart the kernel to use updated packages.\n"
     ]
    },
    {
     "name": "stderr",
     "output_type": "stream",
     "text": [
      "\n",
      "Building graph of deps:   0%|          | 0/5 [00:00<?, ?it/s]\n",
      "Examining python=3.8:   0%|          | 0/5 [00:00<?, ?it/s]  \n",
      "Examining @/win-64::__archspec==1=x86_64:  20%|##        | 1/5 [00:00<00:00,  8.94it/s]\n",
      "Examining @/win-64::__archspec==1=x86_64:  40%|####      | 2/5 [00:00<00:00, 17.88it/s]\n",
      "Examining @/win-64::__cuda==11.2=0:  40%|####      | 2/5 [00:00<00:00, 17.88it/s]      \n",
      "Examining arcpy=2.8:  60%|######    | 3/5 [00:00<00:00, 17.88it/s]               \n",
      "Examining @/win-64::__win==0=0:  80%|########  | 4/5 [00:00<00:00, 17.88it/s]\n",
      "Examining @/win-64::__win==0=0: 100%|##########| 5/5 [00:00<00:00, 14.22it/s]\n",
      "                                                                             \n",
      "\n",
      "Determining conflicts:   0%|          | 0/5 [00:00<?, ?it/s]\n",
      "Examining conflict for python arcpy:   0%|          | 0/5 [00:00<?, ?it/s]\n",
      "                                                                          \n",
      "\n",
      "UnsatisfiableError: The following specifications were found\n",
      "to be incompatible with the existing python installation in your environment:\n",
      "\n",
      "Specifications:\n",
      "\n",
      "  - arcpy=2.8 -> python[version='>=3.7,<3.8.0a0']\n",
      "\n",
      "Your python: python=3.8\n",
      "\n",
      "If python is on the left-most side of the chain, that's the version you've asked for.\n",
      "When python appears to the right, that indicates that the thing on the left is somehow\n",
      "not available for the python version you are constrained to. Note that conda will not\n",
      "change your python version to a different minor version unless you explicitly specify\n",
      "that.\n",
      "\n",
      "\n",
      "\n"
     ]
    }
   ],
   "source": [
    "conda install arcpy=2.8 -c esri"
   ]
  },
  {
   "cell_type": "code",
   "execution_count": 3,
   "metadata": {},
   "outputs": [
    {
     "name": "stdout",
     "output_type": "stream",
     "text": [
      "\n",
      "Note: you may need to restart the kernel to use updated packages.\n"
     ]
    },
    {
     "name": "stderr",
     "output_type": "stream",
     "text": [
      "Could not find conda environment: arcpy\n",
      "You can list all discoverable environments with `conda info --envs`.\n",
      "\n"
     ]
    }
   ],
   "source": [
    "conda activate arcpy"
   ]
  },
  {
   "cell_type": "code",
   "execution_count": 4,
   "metadata": {},
   "outputs": [
    {
     "name": "stdout",
     "output_type": "stream",
     "text": [
      "Collecting arcgis"
     ]
    },
    {
     "name": "stderr",
     "output_type": "stream",
     "text": [
      "ERROR: After October 2020 you may experience errors when installing or updating packages. This is because pip will change the way that it resolves dependency conflicts.\n",
      "\n",
      "We recommend you use --use-feature=2020-resolver to test your packages with the new resolver before it becomes the default.\n",
      "\n",
      "phik 0.11.2 requires scipy>=1.5.2, but you'll have scipy 1.4.1 which is incompatible.\n",
      "pandas-profiling 2.11.0 requires jinja2>=2.11.1, but you'll have jinja2 2.11.0 which is incompatible.\n",
      "pandas-profiling 2.11.0 requires matplotlib>=3.2.0, but you'll have matplotlib 3.1.2 which is incompatible.\n"
     ]
    },
    {
     "name": "stdout",
     "output_type": "stream",
     "text": [
      "\n",
      "  Downloading arcgis-1.9.0.tar.gz (3.4 MB)\n",
      "Requirement already satisfied: six in c:\\users\\parul\\anaconda3\\lib\\site-packages (from arcgis) (1.14.0)\n",
      "Requirement already satisfied: ipywidgets>=7 in c:\\users\\parul\\anaconda3\\lib\\site-packages (from arcgis) (7.6.3)\n",
      "Requirement already satisfied: widgetsnbextension>=3 in c:\\users\\parul\\anaconda3\\lib\\site-packages (from arcgis) (3.5.1)\n",
      "Collecting pandas>=1\n",
      "  Using cached pandas-1.3.1-cp38-cp38-win_amd64.whl (10.4 MB)\n",
      "Requirement already satisfied: numpy>=1.16.2 in c:\\users\\parul\\anaconda3\\lib\\site-packages (from arcgis) (1.18.1)\n",
      "Requirement already satisfied: matplotlib in c:\\users\\parul\\anaconda3\\lib\\site-packages (from arcgis) (3.1.2)\n",
      "Requirement already satisfied: keyring>=19 in c:\\users\\parul\\anaconda3\\lib\\site-packages (from arcgis) (21.4.0)\n",
      "Processing c:\\users\\parul\\appdata\\local\\pip\\cache\\wheels\\4d\\11\\58\\7d0a04db6c902ef42b717da2981807529f4922485141ab404f\\lerc-0.1.0-py3-none-any.whl\n",
      "Requirement already satisfied: ujson>=3 in c:\\users\\parul\\anaconda3\\lib\\site-packages (from arcgis) (4.0.1)\n",
      "Requirement already satisfied: jupyterlab in c:\\users\\parul\\anaconda3\\lib\\site-packages (from arcgis) (2.2.6)\n",
      "Collecting python-certifi-win32\n",
      "  Using cached python_certifi_win32-1.6-py2.py3-none-any.whl (7.2 kB)\n",
      "Processing c:\\users\\parul\\appdata\\local\\pip\\cache\\wheels\\1f\\1b\\b5\\54affbefc8a7e2bdf1da000fc576b8a1c91338f1f327a04f4c\\pyshp-2.1.3-py3-none-any.whl\n",
      "Requirement already satisfied: requests in c:\\users\\parul\\anaconda3\\lib\\site-packages (from arcgis) (2.24.0)\n",
      "Requirement already satisfied: requests-oauthlib in c:\\users\\parul\\anaconda3\\lib\\site-packages (from arcgis) (1.3.0)\n",
      "Collecting requests_toolbelt\n",
      "  Using cached requests_toolbelt-0.9.1-py2.py3-none-any.whl (54 kB)\n",
      "Collecting requests_ntlm\n",
      "  Using cached requests_ntlm-1.1.0-py2.py3-none-any.whl (5.7 kB)\n",
      "Requirement already satisfied: pywin32>=223 in c:\\users\\parul\\anaconda3\\lib\\site-packages (from arcgis) (227)\n",
      "Collecting requests-negotiate-sspi\n",
      "  Using cached requests_negotiate_sspi-0.5.2-py2.py3-none-any.whl (7.1 kB)\n",
      "Collecting requests-kerberos\n",
      "  Using cached requests_kerberos-0.12.0-py2.py3-none-any.whl (14 kB)\n",
      "Collecting winkerberos\n",
      "  Using cached winkerberos-0.8.0-cp38-cp38-win_amd64.whl (24 kB)\n",
      "Requirement already satisfied: ipython>=4.0.0; python_version >= \"3.3\" in c:\\users\\parul\\anaconda3\\lib\\site-packages (from ipywidgets>=7->arcgis) (7.19.0)\n",
      "Requirement already satisfied: jupyterlab-widgets>=1.0.0; python_version >= \"3.6\" in c:\\users\\parul\\anaconda3\\lib\\site-packages (from ipywidgets>=7->arcgis) (1.0.0)\n",
      "Requirement already satisfied: traitlets>=4.3.1 in c:\\users\\parul\\anaconda3\\lib\\site-packages (from ipywidgets>=7->arcgis) (5.0.5)\n",
      "Requirement already satisfied: nbformat>=4.2.0 in c:\\users\\parul\\anaconda3\\lib\\site-packages (from ipywidgets>=7->arcgis) (5.0.8)\n",
      "Requirement already satisfied: ipykernel>=4.5.1 in c:\\users\\parul\\anaconda3\\lib\\site-packages (from ipywidgets>=7->arcgis) (5.3.4)\n",
      "Requirement already satisfied: notebook>=4.4.1 in c:\\users\\parul\\anaconda3\\lib\\site-packages (from widgetsnbextension>=3->arcgis) (6.1.4)\n",
      "Requirement already satisfied: pytz>=2017.3 in c:\\users\\parul\\anaconda3\\lib\\site-packages (from pandas>=1->arcgis) (2019.3)\n",
      "Requirement already satisfied: python-dateutil>=2.7.3 in c:\\users\\parul\\anaconda3\\lib\\site-packages (from pandas>=1->arcgis) (2.8.1)\n",
      "Requirement already satisfied: cycler>=0.10 in c:\\users\\parul\\anaconda3\\lib\\site-packages (from matplotlib->arcgis) (0.10.0)\n",
      "Requirement already satisfied: pyparsing!=2.0.4,!=2.1.2,!=2.1.6,>=2.0.1 in c:\\users\\parul\\anaconda3\\lib\\site-packages (from matplotlib->arcgis) (2.4.6)\n",
      "Requirement already satisfied: kiwisolver>=1.0.1 in c:\\users\\parul\\anaconda3\\lib\\site-packages (from matplotlib->arcgis) (1.1.0)\n",
      "Requirement already satisfied: pywin32-ctypes!=0.1.0,!=0.1.1; sys_platform == \"win32\" in c:\\users\\parul\\anaconda3\\lib\\site-packages (from keyring>=19->arcgis) (0.2.0)\n",
      "Requirement already satisfied: tornado!=6.0.0,!=6.0.1,!=6.0.2 in c:\\users\\parul\\anaconda3\\lib\\site-packages (from jupyterlab->arcgis) (6.0.4)\n",
      "Requirement already satisfied: jupyterlab_server<2.0,>=1.1.5 in c:\\users\\parul\\anaconda3\\lib\\site-packages (from jupyterlab->arcgis) (1.2.0)\n",
      "Requirement already satisfied: jinja2>=2.10 in c:\\users\\parul\\anaconda3\\lib\\site-packages (from jupyterlab->arcgis) (2.11.0)\n",
      "Collecting setuptools-scm\n",
      "  Using cached setuptools_scm-6.0.1-py3-none-any.whl (27 kB)\n",
      "Requirement already satisfied: certifi in c:\\users\\parul\\anaconda3\\lib\\site-packages (from python-certifi-win32->arcgis) (2019.11.28)\n",
      "Requirement already satisfied: wrapt>=1.10.4 in c:\\users\\parul\\anaconda3\\lib\\site-packages (from python-certifi-win32->arcgis) (1.12.1)\n",
      "Requirement already satisfied: urllib3!=1.25.0,!=1.25.1,<1.26,>=1.21.1 in c:\\users\\parul\\anaconda3\\lib\\site-packages (from requests->arcgis) (1.25.11)\n",
      "Requirement already satisfied: idna<3,>=2.5 in c:\\users\\parul\\anaconda3\\lib\\site-packages (from requests->arcgis) (2.10)\n",
      "Requirement already satisfied: chardet<4,>=3.0.2 in c:\\users\\parul\\anaconda3\\lib\\site-packages (from requests->arcgis) (3.0.4)\n",
      "Requirement already satisfied: oauthlib>=3.0.0 in c:\\users\\parul\\anaconda3\\lib\\site-packages (from requests-oauthlib->arcgis) (3.1.0)\n",
      "Requirement already satisfied: cryptography>=1.3 in c:\\users\\parul\\anaconda3\\lib\\site-packages (from requests_ntlm->arcgis) (3.1.1)\n",
      "Collecting ntlm-auth>=1.0.2\n",
      "  Using cached ntlm_auth-1.5.0-py2.py3-none-any.whl (29 kB)\n",
      "Collecting pypiwin32>=223\n",
      "  Using cached pypiwin32-223-py3-none-any.whl (1.7 kB)\n",
      "Requirement already satisfied: prompt-toolkit!=3.0.0,!=3.0.1,<3.1.0,>=2.0.0 in c:\\users\\parul\\anaconda3\\lib\\site-packages (from ipython>=4.0.0; python_version >= \"3.3\"->ipywidgets>=7->arcgis) (3.0.8)\n",
      "Requirement already satisfied: pygments in c:\\users\\parul\\anaconda3\\lib\\site-packages (from ipython>=4.0.0; python_version >= \"3.3\"->ipywidgets>=7->arcgis) (2.7.2)\n",
      "Requirement already satisfied: setuptools>=18.5 in c:\\users\\parul\\anaconda3\\lib\\site-packages (from ipython>=4.0.0; python_version >= \"3.3\"->ipywidgets>=7->arcgis) (50.3.1.post20201107)\n",
      "Requirement already satisfied: backcall in c:\\users\\parul\\anaconda3\\lib\\site-packages (from ipython>=4.0.0; python_version >= \"3.3\"->ipywidgets>=7->arcgis) (0.2.0)\n",
      "Requirement already satisfied: decorator in c:\\users\\parul\\anaconda3\\lib\\site-packages (from ipython>=4.0.0; python_version >= \"3.3\"->ipywidgets>=7->arcgis) (4.4.2)\n",
      "Requirement already satisfied: pickleshare in c:\\users\\parul\\anaconda3\\lib\\site-packages (from ipython>=4.0.0; python_version >= \"3.3\"->ipywidgets>=7->arcgis) (0.7.5)\n",
      "Requirement already satisfied: colorama; sys_platform == \"win32\" in c:\\users\\parul\\anaconda3\\lib\\site-packages (from ipython>=4.0.0; python_version >= \"3.3\"->ipywidgets>=7->arcgis) (0.4.4)\n",
      "Requirement already satisfied: jedi>=0.10 in c:\\users\\parul\\anaconda3\\lib\\site-packages (from ipython>=4.0.0; python_version >= \"3.3\"->ipywidgets>=7->arcgis) (0.17.1)\n",
      "Requirement already satisfied: ipython-genutils in c:\\users\\parul\\anaconda3\\lib\\site-packages (from traitlets>=4.3.1->ipywidgets>=7->arcgis) (0.2.0)\n",
      "Requirement already satisfied: jsonschema!=2.5.0,>=2.4 in c:\\users\\parul\\anaconda3\\lib\\site-packages (from nbformat>=4.2.0->ipywidgets>=7->arcgis) (3.2.0)\n",
      "Requirement already satisfied: jupyter-core in c:\\users\\parul\\anaconda3\\lib\\site-packages (from nbformat>=4.2.0->ipywidgets>=7->arcgis) (4.6.3)\n",
      "Requirement already satisfied: jupyter-client in c:\\users\\parul\\anaconda3\\lib\\site-packages (from ipykernel>=4.5.1->ipywidgets>=7->arcgis) (6.1.7)\n",
      "Requirement already satisfied: nbconvert in c:\\users\\parul\\anaconda3\\lib\\site-packages (from notebook>=4.4.1->widgetsnbextension>=3->arcgis) (6.0.7)\n",
      "Requirement already satisfied: terminado>=0.8.3 in c:\\users\\parul\\anaconda3\\lib\\site-packages (from notebook>=4.4.1->widgetsnbextension>=3->arcgis) (0.9.1)\n",
      "Requirement already satisfied: Send2Trash in c:\\users\\parul\\anaconda3\\lib\\site-packages (from notebook>=4.4.1->widgetsnbextension>=3->arcgis) (1.5.0)\n",
      "Requirement already satisfied: argon2-cffi in c:\\users\\parul\\anaconda3\\lib\\site-packages (from notebook>=4.4.1->widgetsnbextension>=3->arcgis) (20.1.0)\n",
      "Requirement already satisfied: prometheus-client in c:\\users\\parul\\anaconda3\\lib\\site-packages (from notebook>=4.4.1->widgetsnbextension>=3->arcgis) (0.8.0)\n",
      "Requirement already satisfied: pyzmq>=17 in c:\\users\\parul\\anaconda3\\lib\\site-packages (from notebook>=4.4.1->widgetsnbextension>=3->arcgis) (19.0.2)\n",
      "Requirement already satisfied: json5 in c:\\users\\parul\\anaconda3\\lib\\site-packages (from jupyterlab_server<2.0,>=1.1.5->jupyterlab->arcgis) (0.9.5)\n",
      "Requirement already satisfied: MarkupSafe>=0.23 in c:\\users\\parul\\anaconda3\\lib\\site-packages (from jinja2>=2.10->jupyterlab->arcgis) (1.1.1)\n",
      "Requirement already satisfied: cffi!=1.11.3,>=1.8 in c:\\users\\parul\\anaconda3\\lib\\site-packages (from cryptography>=1.3->requests_ntlm->arcgis) (1.14.3)\n",
      "Requirement already satisfied: wcwidth in c:\\users\\parul\\anaconda3\\lib\\site-packages (from prompt-toolkit!=3.0.0,!=3.0.1,<3.1.0,>=2.0.0->ipython>=4.0.0; python_version >= \"3.3\"->ipywidgets>=7->arcgis) (0.2.5)\n",
      "Requirement already satisfied: parso<0.8.0,>=0.7.0 in c:\\users\\parul\\anaconda3\\lib\\site-packages (from jedi>=0.10->ipython>=4.0.0; python_version >= \"3.3\"->ipywidgets>=7->arcgis) (0.7.0)\n",
      "Requirement already satisfied: pyrsistent>=0.14.0 in c:\\users\\parul\\anaconda3\\lib\\site-packages (from jsonschema!=2.5.0,>=2.4->nbformat>=4.2.0->ipywidgets>=7->arcgis) (0.15.7)\n",
      "Requirement already satisfied: attrs>=17.4.0 in c:\\users\\parul\\anaconda3\\lib\\site-packages (from jsonschema!=2.5.0,>=2.4->nbformat>=4.2.0->ipywidgets>=7->arcgis) (19.3.0)\n",
      "Requirement already satisfied: nbclient<0.6.0,>=0.5.0 in c:\\users\\parul\\anaconda3\\lib\\site-packages (from nbconvert->notebook>=4.4.1->widgetsnbextension>=3->arcgis) (0.5.1)\n",
      "Requirement already satisfied: bleach in c:\\users\\parul\\anaconda3\\lib\\site-packages (from nbconvert->notebook>=4.4.1->widgetsnbextension>=3->arcgis) (3.2.1)\n",
      "Requirement already satisfied: mistune<2,>=0.8.1 in c:\\users\\parul\\anaconda3\\lib\\site-packages (from nbconvert->notebook>=4.4.1->widgetsnbextension>=3->arcgis) (0.8.4)\n",
      "Requirement already satisfied: jupyterlab-pygments in c:\\users\\parul\\anaconda3\\lib\\site-packages (from nbconvert->notebook>=4.4.1->widgetsnbextension>=3->arcgis) (0.1.2)\n",
      "Requirement already satisfied: defusedxml in c:\\users\\parul\\anaconda3\\lib\\site-packages (from nbconvert->notebook>=4.4.1->widgetsnbextension>=3->arcgis) (0.6.0)\n",
      "Requirement already satisfied: testpath in c:\\users\\parul\\anaconda3\\lib\\site-packages (from nbconvert->notebook>=4.4.1->widgetsnbextension>=3->arcgis) (0.4.4)\n",
      "Requirement already satisfied: entrypoints>=0.2.2 in c:\\users\\parul\\anaconda3\\lib\\site-packages (from nbconvert->notebook>=4.4.1->widgetsnbextension>=3->arcgis) (0.3)\n",
      "Requirement already satisfied: pandocfilters>=1.4.1 in c:\\users\\parul\\anaconda3\\lib\\site-packages (from nbconvert->notebook>=4.4.1->widgetsnbextension>=3->arcgis) (1.4.3)\n",
      "Requirement already satisfied: pywinpty>=0.5 in c:\\users\\parul\\anaconda3\\lib\\site-packages (from terminado>=0.8.3->notebook>=4.4.1->widgetsnbextension>=3->arcgis) (0.5.7)\n",
      "Requirement already satisfied: pycparser in c:\\users\\parul\\anaconda3\\lib\\site-packages (from cffi!=1.11.3,>=1.8->cryptography>=1.3->requests_ntlm->arcgis) (2.20)\n",
      "Requirement already satisfied: async-generator in c:\\users\\parul\\anaconda3\\lib\\site-packages (from nbclient<0.6.0,>=0.5.0->nbconvert->notebook>=4.4.1->widgetsnbextension>=3->arcgis) (1.10)\n",
      "Requirement already satisfied: nest-asyncio in c:\\users\\parul\\anaconda3\\lib\\site-packages (from nbclient<0.6.0,>=0.5.0->nbconvert->notebook>=4.4.1->widgetsnbextension>=3->arcgis) (1.4.2)\n",
      "Requirement already satisfied: webencodings in c:\\users\\parul\\anaconda3\\lib\\site-packages (from bleach->nbconvert->notebook>=4.4.1->widgetsnbextension>=3->arcgis) (0.5.1)\n",
      "Requirement already satisfied: packaging in c:\\users\\parul\\anaconda3\\lib\\site-packages (from bleach->nbconvert->notebook>=4.4.1->widgetsnbextension>=3->arcgis) (20.4)\n",
      "Building wheels for collected packages: arcgis\n",
      "  Building wheel for arcgis (setup.py): started\n",
      "  Building wheel for arcgis (setup.py): finished with status 'done'\n",
      "  Created wheel for arcgis: filename=arcgis-1.9.0-py2.py3-none-any.whl size=4084471 sha256=66b8783488a1ad9af08a4c903d27a22b530dd693b4771cc4a0b0cb085e945279\n",
      "  Stored in directory: c:\\users\\parul\\appdata\\local\\pip\\cache\\wheels\\46\\d2\\d8\\bee68121bcf7676ae78d06127de2057111a8966989285d9381\n",
      "Successfully built arcgis\n",
      "Installing collected packages: pandas, lerc, setuptools-scm, python-certifi-win32, pyshp, requests-toolbelt, ntlm-auth, requests-ntlm, pypiwin32, requests-negotiate-sspi, winkerberos, requests-kerberos, arcgis\n",
      "  Attempting uninstall: pandas\n",
      "    Found existing installation: pandas 0.25.3\n",
      "    Uninstalling pandas-0.25.3:\n",
      "      Successfully uninstalled pandas-0.25.3\n",
      "Successfully installed arcgis-1.9.0 lerc-0.1.0 ntlm-auth-1.5.0 pandas-1.3.1 pypiwin32-223 pyshp-2.1.3 python-certifi-win32-1.6 requests-kerberos-0.12.0 requests-negotiate-sspi-0.5.2 requests-ntlm-1.1.0 requests-toolbelt-0.9.1 setuptools-scm-6.0.1 winkerberos-0.8.0\n"
     ]
    }
   ],
   "source": [
    "!pip install arcgis"
   ]
  },
  {
   "cell_type": "code",
   "execution_count": null,
   "metadata": {},
   "outputs": [],
   "source": [
    "conda install arcpy=3.8 -c esri"
   ]
  },
  {
   "cell_type": "code",
   "execution_count": null,
   "metadata": {},
   "outputs": [],
   "source": []
  }
 ],
 "metadata": {
  "kernelspec": {
   "display_name": "Python 3",
   "language": "python",
   "name": "python3"
  },
  "language_info": {
   "codemirror_mode": {
    "name": "ipython",
    "version": 3
   },
   "file_extension": ".py",
   "mimetype": "text/x-python",
   "name": "python",
   "nbconvert_exporter": "python",
   "pygments_lexer": "ipython3",
   "version": "3.8.5"
  }
 },
 "nbformat": 4,
 "nbformat_minor": 4
}
