{
 "cells": [
  {
   "cell_type": "code",
   "execution_count": 1,
   "metadata": {},
   "outputs": [
    {
     "name": "stderr",
     "output_type": "stream",
     "text": [
      "PROJ: proj_create_from_database: Cannot find proj.db\n"
     ]
    }
   ],
   "source": [
    "import arcgis"
   ]
  },
  {
   "cell_type": "code",
   "execution_count": 2,
   "metadata": {},
   "outputs": [
    {
     "name": "stdout",
     "output_type": "stream",
     "text": [
      "Requirement already satisfied: arcgis in c:\\users\\parul\\anaconda3\\lib\\site-packages (1.9.0)\n",
      "Requirement already satisfied: requests-toolbelt in c:\\users\\parul\\anaconda3\\lib\\site-packages (from arcgis) (0.9.1)\n",
      "Requirement already satisfied: requests-kerberos; platform_system == \"Windows\" in c:\\users\\parul\\anaconda3\\lib\\site-packages (from arcgis) (0.12.0)\n",
      "Requirement already satisfied: pandas>=1 in c:\\users\\parul\\anaconda3\\lib\\site-packages (from arcgis) (1.3.1)\n",
      "Requirement already satisfied: matplotlib in c:\\users\\parul\\anaconda3\\lib\\site-packages (from arcgis) (3.4.2)\n",
      "Requirement already satisfied: lerc in c:\\users\\parul\\anaconda3\\lib\\site-packages (from arcgis) (0.1.0)\n",
      "Requirement already satisfied: requests-ntlm in c:\\users\\parul\\anaconda3\\lib\\site-packages (from arcgis) (1.1.0)\n",
      "Requirement already satisfied: jupyterlab in c:\\users\\parul\\anaconda3\\lib\\site-packages (from arcgis) (2.2.6)\n",
      "Requirement already satisfied: pywin32>=223; platform_system == \"Windows\" in c:\\users\\parul\\anaconda3\\lib\\site-packages (from arcgis) (227)\n",
      "Requirement already satisfied: python-certifi-win32 in c:\\users\\parul\\anaconda3\\lib\\site-packages (from arcgis) (1.6)\n",
      "Requirement already satisfied: six in c:\\users\\parul\\anaconda3\\lib\\site-packages (from arcgis) (1.16.0)\n",
      "Requirement already satisfied: widgetsnbextension>=3 in c:\\users\\parul\\anaconda3\\lib\\site-packages (from arcgis) (3.5.1)\n",
      "Requirement already satisfied: requests in c:\\users\\parul\\anaconda3\\lib\\site-packages (from arcgis) (2.24.0)\n",
      "Requirement already satisfied: winkerberos; platform_system == \"Windows\" in c:\\users\\parul\\anaconda3\\lib\\site-packages (from arcgis) (0.8.0)\n",
      "Requirement already satisfied: ujson>=3 in c:\\users\\parul\\anaconda3\\lib\\site-packages (from arcgis) (4.0.1)\n",
      "Requirement already satisfied: pyshp>=2 in c:\\users\\parul\\anaconda3\\lib\\site-packages (from arcgis) (2.1.3)\n",
      "Requirement already satisfied: requests-negotiate-sspi; platform_system == \"Windows\" in c:\\users\\parul\\anaconda3\\lib\\site-packages (from arcgis) (0.5.2)\n",
      "Requirement already satisfied: numpy>=1.16.2 in c:\\users\\parul\\anaconda3\\lib\\site-packages (from arcgis) (1.20.3)\n",
      "Requirement already satisfied: keyring>=19 in c:\\users\\parul\\anaconda3\\lib\\site-packages (from arcgis) (21.4.0)\n",
      "Requirement already satisfied: ipywidgets>=7 in c:\\users\\parul\\anaconda3\\lib\\site-packages (from arcgis) (7.6.3)\n",
      "Requirement already satisfied: requests-oauthlib in c:\\users\\parul\\anaconda3\\lib\\site-packages (from arcgis) (1.3.0)\n",
      "Requirement already satisfied: cryptography>=1.3; python_version != \"3.3\" in c:\\users\\parul\\anaconda3\\lib\\site-packages (from requests-kerberos; platform_system == \"Windows\"->arcgis) (3.1.1)\n",
      "Requirement already satisfied: python-dateutil>=2.7.3 in c:\\users\\parul\\anaconda3\\lib\\site-packages (from pandas>=1->arcgis) (2.8.1)\n",
      "Requirement already satisfied: pytz>=2017.3 in c:\\users\\parul\\anaconda3\\lib\\site-packages (from pandas>=1->arcgis) (2021.1)\n",
      "Requirement already satisfied: pyparsing>=2.2.1 in c:\\users\\parul\\anaconda3\\lib\\site-packages (from matplotlib->arcgis) (2.4.7)\n",
      "Requirement already satisfied: kiwisolver>=1.0.1 in c:\\users\\parul\\anaconda3\\lib\\site-packages (from matplotlib->arcgis) (1.3.1)\n",
      "Requirement already satisfied: cycler>=0.10 in c:\\users\\parul\\anaconda3\\lib\\site-packages (from matplotlib->arcgis) (0.10.0)\n",
      "Requirement already satisfied: pillow>=6.2.0 in c:\\users\\parul\\anaconda3\\lib\\site-packages (from matplotlib->arcgis) (8.0.1)\n",
      "Requirement already satisfied: ntlm-auth>=1.0.2 in c:\\users\\parul\\anaconda3\\lib\\site-packages (from requests-ntlm->arcgis) (1.5.0)\n",
      "Requirement already satisfied: notebook>=4.3.1 in c:\\users\\parul\\anaconda3\\lib\\site-packages (from jupyterlab->arcgis) (6.1.4)\n",
      "Requirement already satisfied: tornado!=6.0.0,!=6.0.1,!=6.0.2 in c:\\users\\parul\\anaconda3\\lib\\site-packages (from jupyterlab->arcgis) (6.0.4)\n",
      "Requirement already satisfied: jupyterlab_server<2.0,>=1.1.5 in c:\\users\\parul\\anaconda3\\lib\\site-packages (from jupyterlab->arcgis) (1.2.0)\n",
      "Requirement already satisfied: jinja2>=2.10 in c:\\users\\parul\\anaconda3\\lib\\site-packages (from jupyterlab->arcgis) (2.11.3)\n",
      "Requirement already satisfied: wrapt>=1.10.4 in c:\\users\\parul\\anaconda3\\lib\\site-packages (from python-certifi-win32->arcgis) (1.12.1)\n",
      "Requirement already satisfied: certifi in c:\\users\\parul\\anaconda3\\lib\\site-packages (from python-certifi-win32->arcgis) (2021.5.30)\n",
      "Requirement already satisfied: setuptools-scm in c:\\users\\parul\\anaconda3\\lib\\site-packages (from python-certifi-win32->arcgis) (6.0.1)\n",
      "Requirement already satisfied: urllib3!=1.25.0,!=1.25.1,<1.26,>=1.21.1 in c:\\users\\parul\\anaconda3\\lib\\site-packages (from requests->arcgis) (1.25.11)\n",
      "Requirement already satisfied: idna<3,>=2.5 in c:\\users\\parul\\anaconda3\\lib\\site-packages (from requests->arcgis) (2.10)\n",
      "Requirement already satisfied: chardet<4,>=3.0.2 in c:\\users\\parul\\anaconda3\\lib\\site-packages (from requests->arcgis) (3.0.4)\n",
      "Requirement already satisfied: pypiwin32>=223 in c:\\users\\parul\\anaconda3\\lib\\site-packages (from requests-negotiate-sspi; platform_system == \"Windows\"->arcgis) (223)\n",
      "Requirement already satisfied: pywin32-ctypes!=0.1.0,!=0.1.1; sys_platform == \"win32\" in c:\\users\\parul\\anaconda3\\lib\\site-packages (from keyring>=19->arcgis) (0.2.0)\n",
      "Requirement already satisfied: jupyterlab-widgets>=1.0.0; python_version >= \"3.6\" in c:\\users\\parul\\anaconda3\\lib\\site-packages (from ipywidgets>=7->arcgis) (1.0.0)\n",
      "Requirement already satisfied: ipykernel>=4.5.1 in c:\\users\\parul\\anaconda3\\lib\\site-packages (from ipywidgets>=7->arcgis) (5.3.4)\n",
      "Requirement already satisfied: nbformat>=4.2.0 in c:\\users\\parul\\anaconda3\\lib\\site-packages (from ipywidgets>=7->arcgis) (5.0.8)\n",
      "Requirement already satisfied: ipython>=4.0.0; python_version >= \"3.3\" in c:\\users\\parul\\anaconda3\\lib\\site-packages (from ipywidgets>=7->arcgis) (7.19.0)\n",
      "Requirement already satisfied: traitlets>=4.3.1 in c:\\users\\parul\\anaconda3\\lib\\site-packages (from ipywidgets>=7->arcgis) (5.0.5)\n",
      "Requirement already satisfied: oauthlib>=3.0.0 in c:\\users\\parul\\anaconda3\\lib\\site-packages (from requests-oauthlib->arcgis) (3.1.0)\n",
      "Requirement already satisfied: cffi!=1.11.3,>=1.8 in c:\\users\\parul\\anaconda3\\lib\\site-packages (from cryptography>=1.3; python_version != \"3.3\"->requests-kerberos; platform_system == \"Windows\"->arcgis) (1.14.3)\n",
      "Requirement already satisfied: argon2-cffi in c:\\users\\parul\\anaconda3\\lib\\site-packages (from notebook>=4.3.1->jupyterlab->arcgis) (20.1.0)\n",
      "Requirement already satisfied: terminado>=0.8.3 in c:\\users\\parul\\anaconda3\\lib\\site-packages (from notebook>=4.3.1->jupyterlab->arcgis) (0.9.1)\n",
      "Requirement already satisfied: nbconvert in c:\\users\\parul\\anaconda3\\lib\\site-packages (from notebook>=4.3.1->jupyterlab->arcgis) (6.0.7)\n",
      "Requirement already satisfied: jupyter-client>=5.3.4 in c:\\users\\parul\\anaconda3\\lib\\site-packages (from notebook>=4.3.1->jupyterlab->arcgis) (6.1.7)\n",
      "Requirement already satisfied: ipython-genutils in c:\\users\\parul\\anaconda3\\lib\\site-packages (from notebook>=4.3.1->jupyterlab->arcgis) (0.2.0)\n",
      "Requirement already satisfied: pyzmq>=17 in c:\\users\\parul\\anaconda3\\lib\\site-packages (from notebook>=4.3.1->jupyterlab->arcgis) (19.0.2)\n",
      "Requirement already satisfied: prometheus-client in c:\\users\\parul\\anaconda3\\lib\\site-packages (from notebook>=4.3.1->jupyterlab->arcgis) (0.8.0)\n",
      "Requirement already satisfied: Send2Trash in c:\\users\\parul\\anaconda3\\lib\\site-packages (from notebook>=4.3.1->jupyterlab->arcgis) (1.5.0)\n",
      "Requirement already satisfied: jupyter-core>=4.6.1 in c:\\users\\parul\\anaconda3\\lib\\site-packages (from notebook>=4.3.1->jupyterlab->arcgis) (4.6.3)\n",
      "Requirement already satisfied: json5 in c:\\users\\parul\\anaconda3\\lib\\site-packages (from jupyterlab_server<2.0,>=1.1.5->jupyterlab->arcgis) (0.9.5)\n",
      "Requirement already satisfied: jsonschema>=3.0.1 in c:\\users\\parul\\anaconda3\\lib\\site-packages (from jupyterlab_server<2.0,>=1.1.5->jupyterlab->arcgis) (3.2.0)\n",
      "Requirement already satisfied: MarkupSafe>=0.23 in c:\\users\\parul\\anaconda3\\lib\\site-packages (from jinja2>=2.10->jupyterlab->arcgis) (1.1.1)\n",
      "Requirement already satisfied: setuptools>=45 in c:\\users\\parul\\anaconda3\\lib\\site-packages (from setuptools-scm->python-certifi-win32->arcgis) (50.3.1.post20201107)\n",
      "Requirement already satisfied: jedi>=0.10 in c:\\users\\parul\\anaconda3\\lib\\site-packages (from ipython>=4.0.0; python_version >= \"3.3\"->ipywidgets>=7->arcgis) (0.17.1)\n",
      "Requirement already satisfied: pickleshare in c:\\users\\parul\\anaconda3\\lib\\site-packages (from ipython>=4.0.0; python_version >= \"3.3\"->ipywidgets>=7->arcgis) (0.7.5)\n",
      "Requirement already satisfied: prompt-toolkit!=3.0.0,!=3.0.1,<3.1.0,>=2.0.0 in c:\\users\\parul\\anaconda3\\lib\\site-packages (from ipython>=4.0.0; python_version >= \"3.3\"->ipywidgets>=7->arcgis) (3.0.8)\n",
      "Requirement already satisfied: backcall in c:\\users\\parul\\anaconda3\\lib\\site-packages (from ipython>=4.0.0; python_version >= \"3.3\"->ipywidgets>=7->arcgis) (0.2.0)\n",
      "Requirement already satisfied: colorama; sys_platform == \"win32\" in c:\\users\\parul\\anaconda3\\lib\\site-packages (from ipython>=4.0.0; python_version >= \"3.3\"->ipywidgets>=7->arcgis) (0.4.4)\n",
      "Requirement already satisfied: decorator in c:\\users\\parul\\anaconda3\\lib\\site-packages (from ipython>=4.0.0; python_version >= \"3.3\"->ipywidgets>=7->arcgis) (4.4.2)\n",
      "Requirement already satisfied: pygments in c:\\users\\parul\\anaconda3\\lib\\site-packages (from ipython>=4.0.0; python_version >= \"3.3\"->ipywidgets>=7->arcgis) (2.7.2)\n",
      "Requirement already satisfied: pycparser in c:\\users\\parul\\anaconda3\\lib\\site-packages (from cffi!=1.11.3,>=1.8->cryptography>=1.3; python_version != \"3.3\"->requests-kerberos; platform_system == \"Windows\"->arcgis) (2.20)\n",
      "Requirement already satisfied: pywinpty>=0.5 in c:\\users\\parul\\anaconda3\\lib\\site-packages (from terminado>=0.8.3->notebook>=4.3.1->jupyterlab->arcgis) (0.5.7)\n",
      "Requirement already satisfied: testpath in c:\\users\\parul\\anaconda3\\lib\\site-packages (from nbconvert->notebook>=4.3.1->jupyterlab->arcgis) (0.4.4)\n",
      "Requirement already satisfied: nbclient<0.6.0,>=0.5.0 in c:\\users\\parul\\anaconda3\\lib\\site-packages (from nbconvert->notebook>=4.3.1->jupyterlab->arcgis) (0.5.1)\n",
      "Requirement already satisfied: jupyterlab-pygments in c:\\users\\parul\\anaconda3\\lib\\site-packages (from nbconvert->notebook>=4.3.1->jupyterlab->arcgis) (0.1.2)\n",
      "Requirement already satisfied: bleach in c:\\users\\parul\\anaconda3\\lib\\site-packages (from nbconvert->notebook>=4.3.1->jupyterlab->arcgis) (3.2.1)\n",
      "Requirement already satisfied: pandocfilters>=1.4.1 in c:\\users\\parul\\anaconda3\\lib\\site-packages (from nbconvert->notebook>=4.3.1->jupyterlab->arcgis) (1.4.3)\n",
      "Requirement already satisfied: defusedxml in c:\\users\\parul\\anaconda3\\lib\\site-packages (from nbconvert->notebook>=4.3.1->jupyterlab->arcgis) (0.6.0)\n",
      "Requirement already satisfied: mistune<2,>=0.8.1 in c:\\users\\parul\\anaconda3\\lib\\site-packages (from nbconvert->notebook>=4.3.1->jupyterlab->arcgis) (0.8.4)\n",
      "Requirement already satisfied: entrypoints>=0.2.2 in c:\\users\\parul\\anaconda3\\lib\\site-packages (from nbconvert->notebook>=4.3.1->jupyterlab->arcgis) (0.3)\n",
      "Requirement already satisfied: pyrsistent>=0.14.0 in c:\\users\\parul\\anaconda3\\lib\\site-packages (from jsonschema>=3.0.1->jupyterlab_server<2.0,>=1.1.5->jupyterlab->arcgis) (0.17.3)\n",
      "Requirement already satisfied: attrs>=17.4.0 in c:\\users\\parul\\anaconda3\\lib\\site-packages (from jsonschema>=3.0.1->jupyterlab_server<2.0,>=1.1.5->jupyterlab->arcgis) (21.2.0)\n",
      "Requirement already satisfied: parso<0.8.0,>=0.7.0 in c:\\users\\parul\\anaconda3\\lib\\site-packages (from jedi>=0.10->ipython>=4.0.0; python_version >= \"3.3\"->ipywidgets>=7->arcgis) (0.7.0)\n",
      "Requirement already satisfied: wcwidth in c:\\users\\parul\\anaconda3\\lib\\site-packages (from prompt-toolkit!=3.0.0,!=3.0.1,<3.1.0,>=2.0.0->ipython>=4.0.0; python_version >= \"3.3\"->ipywidgets>=7->arcgis) (0.2.5)\n",
      "Requirement already satisfied: nest-asyncio in c:\\users\\parul\\anaconda3\\lib\\site-packages (from nbclient<0.6.0,>=0.5.0->nbconvert->notebook>=4.3.1->jupyterlab->arcgis) (1.4.2)\n",
      "Requirement already satisfied: async-generator in c:\\users\\parul\\anaconda3\\lib\\site-packages (from nbclient<0.6.0,>=0.5.0->nbconvert->notebook>=4.3.1->jupyterlab->arcgis) (1.10)\n",
      "Requirement already satisfied: webencodings in c:\\users\\parul\\anaconda3\\lib\\site-packages (from bleach->nbconvert->notebook>=4.3.1->jupyterlab->arcgis) (0.5.1)\n",
      "Requirement already satisfied: packaging in c:\\users\\parul\\anaconda3\\lib\\site-packages (from bleach->nbconvert->notebook>=4.3.1->jupyterlab->arcgis) (20.4)\n"
     ]
    }
   ],
   "source": [
    "!pip install arcgis"
   ]
  },
  {
   "cell_type": "code",
   "execution_count": 3,
   "metadata": {},
   "outputs": [],
   "source": [
    "import arcgis"
   ]
  },
  {
   "cell_type": "code",
   "execution_count": 4,
   "metadata": {},
   "outputs": [],
   "source": [
    "from arcgis.gis import GIS\n",
    "# Create a GIS object, as an anonymous user for this example\n",
    "gis = GIS()"
   ]
  },
  {
   "cell_type": "code",
   "execution_count": 6,
   "metadata": {},
   "outputs": [
    {
     "data": {
      "application/vnd.jupyter.widget-view+json": {
       "model_id": "48faa12eaa904d71b163d6d4f143353e",
       "version_major": 2,
       "version_minor": 0
      },
      "text/plain": [
       "MapView(layout=Layout(height='400px', width='100%'))"
      ]
     },
     "metadata": {},
     "output_type": "display_data"
    },
    {
     "data": {
      "text/html": [
       "<div class=\"map-static-img-preview-dbacd56b-3d25-42dd-8feb-051dbaceee75\"><img src=\"\"></img></div>"
      ],
      "text/plain": [
       "<IPython.core.display.HTML object>"
      ]
     },
     "metadata": {},
     "output_type": "display_data"
    },
    {
     "data": {
      "text/html": [
       "<div class=\"map-html-embed-preview-dbacd56b-3d25-42dd-8feb-051dbaceee75\"></div>"
      ],
      "text/plain": [
       "<IPython.core.display.HTML object>"
      ]
     },
     "metadata": {},
     "output_type": "display_data"
    }
   ],
   "source": [
    "# Create a map widget\n",
    "map1 = gis.map('India') # Passing a place name to the constructor\n",
    "                        # will initialize the extent of the map.\n",
    "map1"
   ]
  },
  {
   "cell_type": "code",
   "execution_count": 10,
   "metadata": {},
   "outputs": [
    {
     "ename": "ImportError",
     "evalue": "cannot import name 'FeatureLayer' from 'arcgis' (C:\\Users\\parul\\anaconda3\\lib\\site-packages\\arcgis\\__init__.py)",
     "output_type": "error",
     "traceback": [
      "\u001b[1;31m---------------------------------------------------------------------------\u001b[0m",
      "\u001b[1;31mImportError\u001b[0m                               Traceback (most recent call last)",
      "\u001b[1;32m<ipython-input-10-bad2b2dba8b1>\u001b[0m in \u001b[0;36m<module>\u001b[1;34m\u001b[0m\n\u001b[1;32m----> 1\u001b[1;33m \u001b[1;32mfrom\u001b[0m \u001b[0marcgis\u001b[0m \u001b[1;32mimport\u001b[0m \u001b[0mFeatureLayer\u001b[0m\u001b[1;33m\u001b[0m\u001b[1;33m\u001b[0m\u001b[0m\n\u001b[0m",
      "\u001b[1;31mImportError\u001b[0m: cannot import name 'FeatureLayer' from 'arcgis' (C:\\Users\\parul\\anaconda3\\lib\\site-packages\\arcgis\\__init__.py)"
     ]
    }
   ],
   "source": [
    "from arcgis import FeatureLayer"
   ]
  },
  {
   "cell_type": "code",
   "execution_count": 8,
   "metadata": {},
   "outputs": [
    {
     "ename": "NameError",
     "evalue": "name 'FeatureLayer' is not defined",
     "output_type": "error",
     "traceback": [
      "\u001b[1;31m---------------------------------------------------------------------------\u001b[0m",
      "\u001b[1;31mNameError\u001b[0m                                 Traceback (most recent call last)",
      "\u001b[1;32m<ipython-input-8-40e589dc90ff>\u001b[0m in \u001b[0;36m<module>\u001b[1;34m\u001b[0m\n\u001b[0;32m     51\u001b[0m                                     }]\n\u001b[0;32m     52\u001b[0m \u001b[1;33m\u001b[0m\u001b[0m\n\u001b[1;32m---> 53\u001b[1;33m \u001b[0mworld_flayer\u001b[0m \u001b[1;33m=\u001b[0m \u001b[0mFeatureLayer\u001b[0m\u001b[1;33m(\u001b[0m\u001b[1;34m\"http://services.arcgis.com/nGt4QxSblgDfeJn9/arcgis/rest/services/World_LargestUrbanAreas_fs/FeatureServer/0\"\u001b[0m\u001b[1;33m)\u001b[0m\u001b[1;33m\u001b[0m\u001b[1;33m\u001b[0m\u001b[0m\n\u001b[0m\u001b[0;32m     54\u001b[0m \u001b[1;33m\u001b[0m\u001b[0m\n\u001b[0;32m     55\u001b[0m map4.add_layer(world_flayer,\n",
      "\u001b[1;31mNameError\u001b[0m: name 'FeatureLayer' is not defined"
     ]
    }
   ],
   "source": [
    "map4 = gis.map(\"India\", 2)\n",
    "\n",
    "map4_renderer = {\"renderer\": \"autocast\", #This tells python to use JS autocasting\n",
    "                 \"type\": \"classBreaks\",  \n",
    "                 \"field\":\"POP2025\",\n",
    "                 \"transparency\":80,\n",
    "                 \"minValue\":-9007199254740991}\n",
    "\n",
    "map4_renderer[\"visualVariables\"] = [{   \"type\": \"colorInfo\",\n",
    "                                        \"field\": \"POP2025\",\n",
    "                                        \"normalizationField\": \"POP2015\",\n",
    "                                        \"stops\": [\n",
    "                                            {   \"value\": 1.12,\n",
    "                                                \"color\": [230,97,1,255],\n",
    "                                                \"label\": \"< 112%\"\n",
    "                                            },\n",
    "                                            {   \"value\": 1.1800000000000002,\n",
    "                                                \"color\": [253,184,99,255],\n",
    "                                                \"label\": \"112% ~ 124%\"\n",
    "                                            },\n",
    "                                            {   \"value\": 1.24,\n",
    "                                                \"color\": [247,247,247,255],\n",
    "                                                \"label\": \"124%\"\n",
    "                                            },\n",
    "                                            {   \"value\": 1.3,\n",
    "                                                \"color\": [178,171,210,255],\n",
    "                                                \"label\": \"124% ~ 136%\"\n",
    "                                            },\n",
    "                                            {   \"value\": 1.36,\n",
    "                                                \"color\": [94,60,153,255],\n",
    "                                                \"label\": \"> 136%\"\n",
    "                                            }]\n",
    "                                    }]\n",
    "\n",
    "map4_renderer[\"classBreakInfos\"] = [{   \"symbol\": {\n",
    "                                            \"color\": [170,170,170,255],\n",
    "                                            \"size\": 10.5,\n",
    "                                            \"angle\": 0,\n",
    "                                            \"xoffset\": 0,\n",
    "                                            \"yoffset\": 0,\n",
    "                                            \"type\": \"esriSMS\",\n",
    "                                            \"style\": \"esriSMSCircle\",\n",
    "                                            \"outline\": {\n",
    "                                                \"color\": [153,153,153,255],\n",
    "                                                \"width\": 0.375,\n",
    "                                                \"type\": \"esriSLS\",\n",
    "                                                \"style\": \"esriSLSSolid\"\n",
    "                                            }\n",
    "                                        },\n",
    "                                        \"classMaxValue\": 9007199254740991\n",
    "                                    }]\n",
    "\n",
    "world_flayer = FeatureLayer(\"http://services.arcgis.com/nGt4QxSblgDfeJn9/arcgis/rest/services/World_LargestUrbanAreas_fs/FeatureServer/0\")\n",
    "\n",
    "map4.add_layer(world_flayer,\n",
    "               { \"type\": \"FeatureLayer\",\n",
    "                 \"renderer\": map4_renderer,\n",
    "                 \"field_name\":\"POP2025\",\n",
    "                 \"normalizationType\": \"esriNormalizeByField\",\n",
    "                 \"normalizationField\": \"POP2015\"})\n",
    "\n",
    "map4"
   ]
  },
  {
   "cell_type": "code",
   "execution_count": 12,
   "metadata": {},
   "outputs": [
    {
     "ename": "NameError",
     "evalue": "name 'FeatureLayer' is not defined",
     "output_type": "error",
     "traceback": [
      "\u001b[1;31m---------------------------------------------------------------------------\u001b[0m",
      "\u001b[1;31mNameError\u001b[0m                                 Traceback (most recent call last)",
      "\u001b[1;32m<ipython-input-12-aecf2aa4ed54>\u001b[0m in \u001b[0;36m<module>\u001b[1;34m\u001b[0m\n\u001b[0;32m     74\u001b[0m                                     }]\n\u001b[0;32m     75\u001b[0m \u001b[1;33m\u001b[0m\u001b[0m\n\u001b[1;32m---> 76\u001b[1;33m \u001b[0mmapC_flayer\u001b[0m \u001b[1;33m=\u001b[0m \u001b[0mFeatureLayer\u001b[0m\u001b[1;33m(\u001b[0m\u001b[1;34m\"data = gpd.read_file('C:/Users/parul/anaconda3/machine learning and python projects/Untitled Folder/Test_Service_File_geodatabase.gdb')\"\u001b[0m\u001b[1;33m)\u001b[0m\u001b[1;33m\u001b[0m\u001b[1;33m\u001b[0m\u001b[0m\n\u001b[0m\u001b[0;32m     77\u001b[0m \u001b[1;33m\u001b[0m\u001b[0m\n\u001b[0;32m     78\u001b[0m mapC.add_layer(mapC_flayer,\n",
      "\u001b[1;31mNameError\u001b[0m: name 'FeatureLayer' is not defined"
     ]
    }
   ],
   "source": [
    "mapC = gis.map(\"Godavri East, Andra Pradesh, India\", 12)\n",
    "\n",
    "mapC_renderer = {\"renderer\": \"autocast\", #This tells python to use JS autocasting\n",
    "                 \"type\": \"uniqueValue\",  \n",
    "                 \"field1\":\"PAYMENT\",\n",
    "                 \"transparency\":20,\n",
    "                 \"minValue\":-9007199254740991}\n",
    "\n",
    "mapC_valueExpression = \"var startTime = $feature.Date;\\\n",
    "                        var endTime = 1466106730360;\\\n",
    "                        var retVal = null;\\\n",
    "                        if (startTime != null && endTime != null) {\\\n",
    "                          startTime = Date(startTime);\\\n",
    "                          endTime = Date(endTime);\\\n",
    "                          retVal = DateDiff(endTime, startTime, 'years');\\\n",
    "                        }\\\n",
    "                        return retVal;\"\n",
    "\n",
    "mapC_renderer[\"visualVariables\"] = [{   \"type\": \"transparencyInfo\",\n",
    "                                        \"field\": \"Date\",\n",
    "                                        \"stops\": [\n",
    "                                            {   \"value\": 1383597165692,\n",
    "                                                \"transparency\": 9.999999999999998\n",
    "                                            },\n",
    "                                            {   \"value\": 1383917219586,\n",
    "                                                \"transparency\": 85\n",
    "                                            }]\n",
    "                                    },\n",
    "                                    {   \"type\": \"sizeInfo\",\n",
    "                                        \"valueExpression\": mapC_valueExpression,\n",
    "                                        \"valueUnit\": \"unknown\",\n",
    "                                        \"legendOptions\": {\"title\": \"Age, in years, from Date to 6/16/2016\"},\n",
    "                                        \"minSize\": 6,\n",
    "                                        \"maxSize\": 30,\n",
    "                                        \"minDataValue\": 2.605007927448,\n",
    "                                        \"maxDataValue\": 2.62144628361238\n",
    "                                    }]\n",
    "\n",
    "mapC_renderer[\"uniqueValueInfos\"] = [{  \"value\": \"VI\",\n",
    "                                        \"symbol\": {\n",
    "                                            \"color\": [0,77,168,255],\n",
    "                                            \"size\": 6,\n",
    "                                            \"angle\": 0,\n",
    "                                            \"xoffset\": 0,\n",
    "                                            \"yoffset\": 0,\n",
    "                                            \"type\": \"esriSMS\",\n",
    "                                            \"style\": \"esriSMSCircle\",\n",
    "                                            \"outline\": {\n",
    "                                                \"color\": [190,210,255,88],\n",
    "                                                \"width\": 0.75,\n",
    "                                                \"type\": \"esriSLS\",\n",
    "                                                \"style\": \"esriSLSSolid\"\n",
    "                                            }\n",
    "                                        },\n",
    "                                        \"label\": \"Visa\"\n",
    "                                    },\n",
    "                                    {   \"value\": \"AX\",\n",
    "                                        \"symbol\": {\n",
    "                                            \"color\": [56,168,0,255],\n",
    "                                            \"size\": 6,\n",
    "                                            \"angle\": 0,\n",
    "                                            \"xoffset\": 0,\n",
    "                                            \"yoffset\": 0,\n",
    "                                            \"type\": \"esriSMS\",\n",
    "                                            \"style\": \"esriSMSCircle\",\n",
    "                                            \"outline\": {\n",
    "                                                \"color\": [163,255,115,82],\n",
    "                                                \"width\": 0.75,\n",
    "                                                \"type\": \"esriSLS\",\n",
    "                                                \"style\": \"esriSLSSolid\"\n",
    "                                            }\n",
    "                                        },\n",
    "                                        \"label\": \"Amex\"\n",
    "                                    }]\n",
    "\n",
    "mapC_flayer = FeatureLayer(\"data = gpd.read_file('C:/Users/parul/anaconda3/machine learning and python projects/Untitled Folder/Test_Service_File_geodatabase.gdb')\")\n",
    "\n",
    "mapC.add_layer(mapC_flayer,\n",
    "               { \"type\": \"FeatureLayer\",\n",
    "                 \"renderer\": mapC_renderer,\n",
    "                 \"field_name\":\"PAYMENT\"})\n",
    "\n",
    "mapC"
   ]
  },
  {
   "cell_type": "code",
   "execution_count": 13,
   "metadata": {},
   "outputs": [
    {
     "ename": "NameError",
     "evalue": "name 'FeatureLayer' is not defined",
     "output_type": "error",
     "traceback": [
      "\u001b[1;31m---------------------------------------------------------------------------\u001b[0m",
      "\u001b[1;31mNameError\u001b[0m                                 Traceback (most recent call last)",
      "\u001b[1;32m<ipython-input-13-3c6bcd4d9a36>\u001b[0m in \u001b[0;36m<module>\u001b[1;34m\u001b[0m\n\u001b[0;32m     51\u001b[0m                                     }]\n\u001b[0;32m     52\u001b[0m \u001b[1;33m\u001b[0m\u001b[0m\n\u001b[1;32m---> 53\u001b[1;33m \u001b[0mworld_flayer\u001b[0m \u001b[1;33m=\u001b[0m \u001b[0mFeatureLayer\u001b[0m\u001b[1;33m(\u001b[0m\u001b[1;34m\"http://services.arcgis.com/nGt4QxSblgDfeJn9/arcgis/rest/services/World_LargestUrbanAreas_fs/FeatureServer/0\"\u001b[0m\u001b[1;33m)\u001b[0m\u001b[1;33m\u001b[0m\u001b[1;33m\u001b[0m\u001b[0m\n\u001b[0m\u001b[0;32m     54\u001b[0m \u001b[1;33m\u001b[0m\u001b[0m\n\u001b[0;32m     55\u001b[0m map4.add_layer(world_flayer,\n",
      "\u001b[1;31mNameError\u001b[0m: name 'FeatureLayer' is not defined"
     ]
    }
   ],
   "source": [
    "map4 = gis.map(\"France\", 2)\n",
    "\n",
    "map4_renderer = {\"renderer\": \"autocast\", #This tells python to use JS autocasting\n",
    "                 \"type\": \"classBreaks\",  \n",
    "                 \"field\":\"POP2025\",\n",
    "                 \"transparency\":80,\n",
    "                 \"minValue\":-9007199254740991}\n",
    "\n",
    "map4_renderer[\"visualVariables\"] = [{   \"type\": \"colorInfo\",\n",
    "                                        \"field\": \"POP2025\",\n",
    "                                        \"normalizationField\": \"POP2015\",\n",
    "                                        \"stops\": [\n",
    "                                            {   \"value\": 1.12,\n",
    "                                                \"color\": [230,97,1,255],\n",
    "                                                \"label\": \"< 112%\"\n",
    "                                            },\n",
    "                                            {   \"value\": 1.1800000000000002,\n",
    "                                                \"color\": [253,184,99,255],\n",
    "                                                \"label\": \"112% ~ 124%\"\n",
    "                                            },\n",
    "                                            {   \"value\": 1.24,\n",
    "                                                \"color\": [247,247,247,255],\n",
    "                                                \"label\": \"124%\"\n",
    "                                            },\n",
    "                                            {   \"value\": 1.3,\n",
    "                                                \"color\": [178,171,210,255],\n",
    "                                                \"label\": \"124% ~ 136%\"\n",
    "                                            },\n",
    "                                            {   \"value\": 1.36,\n",
    "                                                \"color\": [94,60,153,255],\n",
    "                                                \"label\": \"> 136%\"\n",
    "                                            }]\n",
    "                                    }]\n",
    "\n",
    "map4_renderer[\"classBreakInfos\"] = [{   \"symbol\": {\n",
    "                                            \"color\": [170,170,170,255],\n",
    "                                            \"size\": 10.5,\n",
    "                                            \"angle\": 0,\n",
    "                                            \"xoffset\": 0,\n",
    "                                            \"yoffset\": 0,\n",
    "                                            \"type\": \"esriSMS\",\n",
    "                                            \"style\": \"esriSMSCircle\",\n",
    "                                            \"outline\": {\n",
    "                                                \"color\": [153,153,153,255],\n",
    "                                                \"width\": 0.375,\n",
    "                                                \"type\": \"esriSLS\",\n",
    "                                                \"style\": \"esriSLSSolid\"\n",
    "                                            }\n",
    "                                        },\n",
    "                                        \"classMaxValue\": 9007199254740991\n",
    "                                    }]\n",
    "\n",
    "world_flayer = FeatureLayer(\"http://services.arcgis.com/nGt4QxSblgDfeJn9/arcgis/rest/services/World_LargestUrbanAreas_fs/FeatureServer/0\")\n",
    "\n",
    "map4.add_layer(world_flayer,\n",
    "               { \"type\": \"FeatureLayer\",\n",
    "                 \"renderer\": map4_renderer,\n",
    "                 \"field_name\":\"POP2025\",\n",
    "                 \"normalizationType\": \"esriNormalizeByField\",\n",
    "                 \"normalizationField\": \"POP2015\"})\n",
    "\n",
    "map4"
   ]
  },
  {
   "cell_type": "code",
   "execution_count": null,
   "metadata": {},
   "outputs": [],
   "source": []
  }
 ],
 "metadata": {
  "kernelspec": {
   "display_name": "Python 3",
   "language": "python",
   "name": "python3"
  },
  "language_info": {
   "codemirror_mode": {
    "name": "ipython",
    "version": 3
   },
   "file_extension": ".py",
   "mimetype": "text/x-python",
   "name": "python",
   "nbconvert_exporter": "python",
   "pygments_lexer": "ipython3",
   "version": "3.8.5"
  }
 },
 "nbformat": 4,
 "nbformat_minor": 4
}
