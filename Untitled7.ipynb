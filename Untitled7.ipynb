{
 "cells": [
  {
   "cell_type": "code",
   "execution_count": 2,
   "metadata": {},
   "outputs": [
    {
     "name": "stdout",
     "output_type": "stream",
     "text": [
      "Requirement already satisfied: arcgis in c:\\users\\parul\\anaconda3\\lib\\site-packages (1.9.0)\n",
      "Requirement already satisfied: requests-oauthlib in c:\\users\\parul\\anaconda3\\lib\\site-packages (from arcgis) (1.3.0)\n",
      "Requirement already satisfied: matplotlib in c:\\users\\parul\\anaconda3\\lib\\site-packages (from arcgis) (3.4.2)\n",
      "Requirement already satisfied: widgetsnbextension>=3 in c:\\users\\parul\\anaconda3\\lib\\site-packages (from arcgis) (3.5.1)\n",
      "Requirement already satisfied: ujson>=3 in c:\\users\\parul\\anaconda3\\lib\\site-packages (from arcgis) (4.0.1)\n",
      "Requirement already satisfied: requests-negotiate-sspi; platform_system == \"Windows\" in c:\\users\\parul\\anaconda3\\lib\\site-packages (from arcgis) (0.5.2)\n",
      "Requirement already satisfied: requests-toolbelt in c:\\users\\parul\\anaconda3\\lib\\site-packages (from arcgis) (0.9.1)\n",
      "Requirement already satisfied: lerc in c:\\users\\parul\\anaconda3\\lib\\site-packages (from arcgis) (0.1.0)\n",
      "Requirement already satisfied: pandas>=1 in c:\\users\\parul\\anaconda3\\lib\\site-packages (from arcgis) (1.3.1)\n",
      "Requirement already satisfied: requests-kerberos; platform_system == \"Windows\" in c:\\users\\parul\\anaconda3\\lib\\site-packages (from arcgis) (0.12.0)\n",
      "Requirement already satisfied: winkerberos; platform_system == \"Windows\" in c:\\users\\parul\\anaconda3\\lib\\site-packages (from arcgis) (0.8.0)\n",
      "Requirement already satisfied: jupyterlab in c:\\users\\parul\\anaconda3\\lib\\site-packages (from arcgis) (2.2.6)\n",
      "Requirement already satisfied: pyshp>=2 in c:\\users\\parul\\anaconda3\\lib\\site-packages (from arcgis) (2.1.3)\n",
      "Requirement already satisfied: pywin32>=223; platform_system == \"Windows\" in c:\\users\\parul\\anaconda3\\lib\\site-packages (from arcgis) (227)\n",
      "Requirement already satisfied: python-certifi-win32 in c:\\users\\parul\\anaconda3\\lib\\site-packages (from arcgis) (1.6)\n",
      "Requirement already satisfied: requests-ntlm in c:\\users\\parul\\anaconda3\\lib\\site-packages (from arcgis) (1.1.0)\n",
      "Requirement already satisfied: keyring>=19 in c:\\users\\parul\\anaconda3\\lib\\site-packages (from arcgis) (21.4.0)\n",
      "Requirement already satisfied: requests in c:\\users\\parul\\anaconda3\\lib\\site-packages (from arcgis) (2.24.0)\n",
      "Requirement already satisfied: ipywidgets>=7 in c:\\users\\parul\\anaconda3\\lib\\site-packages (from arcgis) (7.6.3)\n",
      "Requirement already satisfied: numpy>=1.16.2 in c:\\users\\parul\\anaconda3\\lib\\site-packages (from arcgis) (1.20.3)\n",
      "Requirement already satisfied: six in c:\\users\\parul\\anaconda3\\lib\\site-packages (from arcgis) (1.16.0)\n",
      "Requirement already satisfied: oauthlib>=3.0.0 in c:\\users\\parul\\anaconda3\\lib\\site-packages (from requests-oauthlib->arcgis) (3.1.0)\n",
      "Requirement already satisfied: kiwisolver>=1.0.1 in c:\\users\\parul\\anaconda3\\lib\\site-packages (from matplotlib->arcgis) (1.3.1)\n",
      "Requirement already satisfied: python-dateutil>=2.7 in c:\\users\\parul\\anaconda3\\lib\\site-packages (from matplotlib->arcgis) (2.8.1)\n",
      "Requirement already satisfied: pyparsing>=2.2.1 in c:\\users\\parul\\anaconda3\\lib\\site-packages (from matplotlib->arcgis) (2.4.7)\n",
      "Requirement already satisfied: pillow>=6.2.0 in c:\\users\\parul\\anaconda3\\lib\\site-packages (from matplotlib->arcgis) (8.0.1)\n",
      "Requirement already satisfied: cycler>=0.10 in c:\\users\\parul\\anaconda3\\lib\\site-packages (from matplotlib->arcgis) (0.10.0)\n",
      "Requirement already satisfied: notebook>=4.4.1 in c:\\users\\parul\\anaconda3\\lib\\site-packages (from widgetsnbextension>=3->arcgis) (6.1.4)\n",
      "Requirement already satisfied: pypiwin32>=223 in c:\\users\\parul\\anaconda3\\lib\\site-packages (from requests-negotiate-sspi; platform_system == \"Windows\"->arcgis) (223)\n",
      "Requirement already satisfied: pytz>=2017.3 in c:\\users\\parul\\anaconda3\\lib\\site-packages (from pandas>=1->arcgis) (2021.1)\n",
      "Requirement already satisfied: cryptography>=1.3; python_version != \"3.3\" in c:\\users\\parul\\anaconda3\\lib\\site-packages (from requests-kerberos; platform_system == \"Windows\"->arcgis) (3.1.1)\n",
      "Requirement already satisfied: tornado!=6.0.0,!=6.0.1,!=6.0.2 in c:\\users\\parul\\anaconda3\\lib\\site-packages (from jupyterlab->arcgis) (6.0.4)\n",
      "Requirement already satisfied: jupyterlab_server<2.0,>=1.1.5 in c:\\users\\parul\\anaconda3\\lib\\site-packages (from jupyterlab->arcgis) (1.2.0)\n",
      "Requirement already satisfied: jinja2>=2.10 in c:\\users\\parul\\anaconda3\\lib\\site-packages (from jupyterlab->arcgis) (2.11.3)\n",
      "Requirement already satisfied: certifi in c:\\users\\parul\\anaconda3\\lib\\site-packages (from python-certifi-win32->arcgis) (2021.5.30)\n",
      "Requirement already satisfied: setuptools-scm in c:\\users\\parul\\anaconda3\\lib\\site-packages (from python-certifi-win32->arcgis) (6.0.1)\n",
      "Requirement already satisfied: wrapt>=1.10.4 in c:\\users\\parul\\anaconda3\\lib\\site-packages (from python-certifi-win32->arcgis) (1.12.1)\n",
      "Requirement already satisfied: ntlm-auth>=1.0.2 in c:\\users\\parul\\anaconda3\\lib\\site-packages (from requests-ntlm->arcgis) (1.5.0)\n",
      "Requirement already satisfied: pywin32-ctypes!=0.1.0,!=0.1.1; sys_platform == \"win32\" in c:\\users\\parul\\anaconda3\\lib\\site-packages (from keyring>=19->arcgis) (0.2.0)\n",
      "Requirement already satisfied: urllib3!=1.25.0,!=1.25.1,<1.26,>=1.21.1 in c:\\users\\parul\\anaconda3\\lib\\site-packages (from requests->arcgis) (1.25.11)\n",
      "Requirement already satisfied: chardet<4,>=3.0.2 in c:\\users\\parul\\anaconda3\\lib\\site-packages (from requests->arcgis) (3.0.4)\n",
      "Requirement already satisfied: idna<3,>=2.5 in c:\\users\\parul\\anaconda3\\lib\\site-packages (from requests->arcgis) (2.10)\n",
      "Requirement already satisfied: jupyterlab-widgets>=1.0.0; python_version >= \"3.6\" in c:\\users\\parul\\anaconda3\\lib\\site-packages (from ipywidgets>=7->arcgis) (1.0.0)\n",
      "Requirement already satisfied: nbformat>=4.2.0 in c:\\users\\parul\\anaconda3\\lib\\site-packages (from ipywidgets>=7->arcgis) (5.0.8)\n",
      "Requirement already satisfied: ipython>=4.0.0; python_version >= \"3.3\" in c:\\users\\parul\\anaconda3\\lib\\site-packages (from ipywidgets>=7->arcgis) (7.19.0)\n",
      "Requirement already satisfied: ipykernel>=4.5.1 in c:\\users\\parul\\anaconda3\\lib\\site-packages (from ipywidgets>=7->arcgis) (5.3.4)\n",
      "Requirement already satisfied: traitlets>=4.3.1 in c:\\users\\parul\\anaconda3\\lib\\site-packages (from ipywidgets>=7->arcgis) (5.0.5)\n",
      "Requirement already satisfied: argon2-cffi in c:\\users\\parul\\anaconda3\\lib\\site-packages (from notebook>=4.4.1->widgetsnbextension>=3->arcgis) (20.1.0)\n",
      "Requirement already satisfied: pyzmq>=17 in c:\\users\\parul\\anaconda3\\lib\\site-packages (from notebook>=4.4.1->widgetsnbextension>=3->arcgis) (19.0.2)\n",
      "Requirement already satisfied: jupyter-core>=4.6.1 in c:\\users\\parul\\anaconda3\\lib\\site-packages (from notebook>=4.4.1->widgetsnbextension>=3->arcgis) (4.6.3)\n",
      "Requirement already satisfied: nbconvert in c:\\users\\parul\\anaconda3\\lib\\site-packages (from notebook>=4.4.1->widgetsnbextension>=3->arcgis) (6.0.7)\n",
      "Requirement already satisfied: Send2Trash in c:\\users\\parul\\anaconda3\\lib\\site-packages (from notebook>=4.4.1->widgetsnbextension>=3->arcgis) (1.5.0)\n",
      "Requirement already satisfied: ipython-genutils in c:\\users\\parul\\anaconda3\\lib\\site-packages (from notebook>=4.4.1->widgetsnbextension>=3->arcgis) (0.2.0)\n",
      "Requirement already satisfied: prometheus-client in c:\\users\\parul\\anaconda3\\lib\\site-packages (from notebook>=4.4.1->widgetsnbextension>=3->arcgis) (0.8.0)\n",
      "Requirement already satisfied: terminado>=0.8.3 in c:\\users\\parul\\anaconda3\\lib\\site-packages (from notebook>=4.4.1->widgetsnbextension>=3->arcgis) (0.9.1)\n",
      "Requirement already satisfied: jupyter-client>=5.3.4 in c:\\users\\parul\\anaconda3\\lib\\site-packages (from notebook>=4.4.1->widgetsnbextension>=3->arcgis) (6.1.7)\n",
      "Requirement already satisfied: cffi!=1.11.3,>=1.8 in c:\\users\\parul\\anaconda3\\lib\\site-packages (from cryptography>=1.3; python_version != \"3.3\"->requests-kerberos; platform_system == \"Windows\"->arcgis) (1.14.3)\n",
      "Requirement already satisfied: json5 in c:\\users\\parul\\anaconda3\\lib\\site-packages (from jupyterlab_server<2.0,>=1.1.5->jupyterlab->arcgis) (0.9.5)\n",
      "Requirement already satisfied: jsonschema>=3.0.1 in c:\\users\\parul\\anaconda3\\lib\\site-packages (from jupyterlab_server<2.0,>=1.1.5->jupyterlab->arcgis) (3.2.0)\n",
      "Requirement already satisfied: MarkupSafe>=0.23 in c:\\users\\parul\\anaconda3\\lib\\site-packages (from jinja2>=2.10->jupyterlab->arcgis) (1.1.1)\n",
      "Requirement already satisfied: setuptools>=45 in c:\\users\\parul\\anaconda3\\lib\\site-packages (from setuptools-scm->python-certifi-win32->arcgis) (50.3.1.post20201107)\n",
      "Requirement already satisfied: decorator in c:\\users\\parul\\anaconda3\\lib\\site-packages (from ipython>=4.0.0; python_version >= \"3.3\"->ipywidgets>=7->arcgis) (4.4.2)\n",
      "Requirement already satisfied: jedi>=0.10 in c:\\users\\parul\\anaconda3\\lib\\site-packages (from ipython>=4.0.0; python_version >= \"3.3\"->ipywidgets>=7->arcgis) (0.17.1)\n",
      "Requirement already satisfied: colorama; sys_platform == \"win32\" in c:\\users\\parul\\anaconda3\\lib\\site-packages (from ipython>=4.0.0; python_version >= \"3.3\"->ipywidgets>=7->arcgis) (0.4.4)\n"
     ]
    },
    {
     "name": "stdout",
     "output_type": "stream",
     "text": [
      "Requirement already satisfied: prompt-toolkit!=3.0.0,!=3.0.1,<3.1.0,>=2.0.0 in c:\\users\\parul\\anaconda3\\lib\\site-packages (from ipython>=4.0.0; python_version >= \"3.3\"->ipywidgets>=7->arcgis) (3.0.8)\n",
      "Requirement already satisfied: backcall in c:\\users\\parul\\anaconda3\\lib\\site-packages (from ipython>=4.0.0; python_version >= \"3.3\"->ipywidgets>=7->arcgis) (0.2.0)\n",
      "Requirement already satisfied: pygments in c:\\users\\parul\\anaconda3\\lib\\site-packages (from ipython>=4.0.0; python_version >= \"3.3\"->ipywidgets>=7->arcgis) (2.7.2)\n",
      "Requirement already satisfied: pickleshare in c:\\users\\parul\\anaconda3\\lib\\site-packages (from ipython>=4.0.0; python_version >= \"3.3\"->ipywidgets>=7->arcgis) (0.7.5)\n",
      "Requirement already satisfied: pandocfilters>=1.4.1 in c:\\users\\parul\\anaconda3\\lib\\site-packages (from nbconvert->notebook>=4.4.1->widgetsnbextension>=3->arcgis) (1.4.3)\n",
      "Requirement already satisfied: defusedxml in c:\\users\\parul\\anaconda3\\lib\\site-packages (from nbconvert->notebook>=4.4.1->widgetsnbextension>=3->arcgis) (0.6.0)\n",
      "Requirement already satisfied: nbclient<0.6.0,>=0.5.0 in c:\\users\\parul\\anaconda3\\lib\\site-packages (from nbconvert->notebook>=4.4.1->widgetsnbextension>=3->arcgis) (0.5.1)\n",
      "Requirement already satisfied: testpath in c:\\users\\parul\\anaconda3\\lib\\site-packages (from nbconvert->notebook>=4.4.1->widgetsnbextension>=3->arcgis) (0.4.4)\n",
      "Requirement already satisfied: mistune<2,>=0.8.1 in c:\\users\\parul\\anaconda3\\lib\\site-packages (from nbconvert->notebook>=4.4.1->widgetsnbextension>=3->arcgis) (0.8.4)\n",
      "Requirement already satisfied: entrypoints>=0.2.2 in c:\\users\\parul\\anaconda3\\lib\\site-packages (from nbconvert->notebook>=4.4.1->widgetsnbextension>=3->arcgis) (0.3)\n",
      "Requirement already satisfied: jupyterlab-pygments in c:\\users\\parul\\anaconda3\\lib\\site-packages (from nbconvert->notebook>=4.4.1->widgetsnbextension>=3->arcgis) (0.1.2)\n",
      "Requirement already satisfied: bleach in c:\\users\\parul\\anaconda3\\lib\\site-packages (from nbconvert->notebook>=4.4.1->widgetsnbextension>=3->arcgis) (3.2.1)\n",
      "Requirement already satisfied: pywinpty>=0.5 in c:\\users\\parul\\anaconda3\\lib\\site-packages (from terminado>=0.8.3->notebook>=4.4.1->widgetsnbextension>=3->arcgis) (0.5.7)\n",
      "Requirement already satisfied: pycparser in c:\\users\\parul\\anaconda3\\lib\\site-packages (from cffi!=1.11.3,>=1.8->cryptography>=1.3; python_version != \"3.3\"->requests-kerberos; platform_system == \"Windows\"->arcgis) (2.20)\n",
      "Requirement already satisfied: attrs>=17.4.0 in c:\\users\\parul\\anaconda3\\lib\\site-packages (from jsonschema>=3.0.1->jupyterlab_server<2.0,>=1.1.5->jupyterlab->arcgis) (21.2.0)\n",
      "Requirement already satisfied: pyrsistent>=0.14.0 in c:\\users\\parul\\anaconda3\\lib\\site-packages (from jsonschema>=3.0.1->jupyterlab_server<2.0,>=1.1.5->jupyterlab->arcgis) (0.17.3)\n",
      "Requirement already satisfied: parso<0.8.0,>=0.7.0 in c:\\users\\parul\\anaconda3\\lib\\site-packages (from jedi>=0.10->ipython>=4.0.0; python_version >= \"3.3\"->ipywidgets>=7->arcgis) (0.7.0)\n",
      "Requirement already satisfied: wcwidth in c:\\users\\parul\\anaconda3\\lib\\site-packages (from prompt-toolkit!=3.0.0,!=3.0.1,<3.1.0,>=2.0.0->ipython>=4.0.0; python_version >= \"3.3\"->ipywidgets>=7->arcgis) (0.2.5)\n",
      "Requirement already satisfied: nest-asyncio in c:\\users\\parul\\anaconda3\\lib\\site-packages (from nbclient<0.6.0,>=0.5.0->nbconvert->notebook>=4.4.1->widgetsnbextension>=3->arcgis) (1.4.2)\n",
      "Requirement already satisfied: async-generator in c:\\users\\parul\\anaconda3\\lib\\site-packages (from nbclient<0.6.0,>=0.5.0->nbconvert->notebook>=4.4.1->widgetsnbextension>=3->arcgis) (1.10)\n",
      "Requirement already satisfied: packaging in c:\\users\\parul\\anaconda3\\lib\\site-packages (from bleach->nbconvert->notebook>=4.4.1->widgetsnbextension>=3->arcgis) (20.4)\n",
      "Requirement already satisfied: webencodings in c:\\users\\parul\\anaconda3\\lib\\site-packages (from bleach->nbconvert->notebook>=4.4.1->widgetsnbextension>=3->arcgis) (0.5.1)\n"
     ]
    }
   ],
   "source": [
    "!pip install arcgis"
   ]
  },
  {
   "cell_type": "code",
   "execution_count": 3,
   "metadata": {},
   "outputs": [],
   "source": [
    "# Establish a connection to your GIS.\n",
    "from arcgis.gis import GIS\n",
    "from IPython.display import display\n",
    "gis = GIS() # anonymous connection to www.arcgis.com"
   ]
  },
  {
   "cell_type": "code",
   "execution_count": 4,
   "metadata": {},
   "outputs": [
    {
     "data": {
      "text/html": [
       "<div class=\"item_container\" style=\"height: auto; overflow: hidden; border: 1px solid #cfcfcf; border-radius: 2px; background: #f6fafa; line-height: 1.21429em; padding: 10px;\">\n",
       "                    <div class=\"item_left\" style=\"width: 210px; float: left;\">\n",
       "                       <a href='https://www.arcgis.com/home/item.html?id=85d0ca4ea1ca4b9abf0c51b9bd34de2e' target='_blank'>\n",
       "                        <img src='https://www.arcgis.com/sharing/rest//content/items/85d0ca4ea1ca4b9abf0c51b9bd34de2e/info/thumbnail/thumbnail1578438561290.jpeg' class=\"itemThumbnail\">\n",
       "                       </a>\n",
       "                    </div>\n",
       "\n",
       "                    <div class=\"item_right\"     style=\"float: none; width: auto; overflow: hidden;\">\n",
       "                        <a href='https://www.arcgis.com/home/item.html?id=85d0ca4ea1ca4b9abf0c51b9bd34de2e' target='_blank'><b>USA Major Cities</b>\n",
       "                        </a>\n",
       "                        <br/>This layer presents the locations of cities within the United States with populations of approximately 10,000 or greater, all state capitals, and the national capital.<img src='https://www.arcgis.com/home/js/jsapi/esri/css/images/item_type_icons/featureshosted16.png' style=\"vertical-align:middle;\">Feature Layer Collection by esri_dm\n",
       "                        <br/>Last Modified: May 19, 2020\n",
       "                        <br/>1 comments, 3,30,40,289 views\n",
       "                    </div>\n",
       "                </div>\n",
       "                "
      ],
      "text/plain": [
       "<Item title:\"USA Major Cities\" type:Feature Layer Collection owner:esri_dm>"
      ]
     },
     "execution_count": 4,
     "metadata": {},
     "output_type": "execute_result"
    }
   ],
   "source": [
    "\n",
    "# Search for 'USA major cities' feature layer collection\n",
    "search_results = gis.content.search('title: USA Major Cities',\n",
    "                                    'Feature Layer')\n",
    "\n",
    "# Access the first Item that's returned\n",
    "major_cities_item = search_results[0]\n",
    "\n",
    "major_cities_item"
   ]
  },
  {
   "cell_type": "code",
   "execution_count": 5,
   "metadata": {},
   "outputs": [
    {
     "data": {
      "text/plain": [
       "[<FeatureLayer url:\"https://services.arcgis.com/P3ePLMYs2RVChkJx/arcgis/rest/services/USA_Major_Cities/FeatureServer/0\">]"
      ]
     },
     "execution_count": 5,
     "metadata": {},
     "output_type": "execute_result"
    }
   ],
   "source": [
    "major_cities_layers = major_cities_item.layers\n",
    "major_cities_layers"
   ]
  },
  {
   "cell_type": "code",
   "execution_count": 6,
   "metadata": {},
   "outputs": [
    {
     "data": {
      "text/html": [
       "<div class=\"item_container\" style=\"height: auto; overflow: hidden; border: 1px solid #cfcfcf; border-radius: 2px; background: #f6fafa; line-height: 1.21429em; padding: 10px;\">\n",
       "                    <div class=\"item_left\" style=\"width: 210px; float: left;\">\n",
       "                       <a href='https://www.arcgis.com/home/item.html?id=91c6a5f6410b4991ab0db1d7c26daacb' target='_blank'>\n",
       "                        <img src='https://www.arcgis.com/sharing/rest//content/items/91c6a5f6410b4991ab0db1d7c26daacb/info/thumbnail/thumbnail1578437765660.jpeg' class=\"itemThumbnail\">\n",
       "                       </a>\n",
       "                    </div>\n",
       "\n",
       "                    <div class=\"item_right\"     style=\"float: none; width: auto; overflow: hidden;\">\n",
       "                        <a href='https://www.arcgis.com/home/item.html?id=91c6a5f6410b4991ab0db1d7c26daacb' target='_blank'><b>USA Freeway System</b>\n",
       "                        </a>\n",
       "                        <br/>This layer presents rural and urban interstate highways.<img src='https://www.arcgis.com/home/js/jsapi/esri/css/images/item_type_icons/featureshosted16.png' style=\"vertical-align:middle;\">Feature Layer Collection by esri_dm\n",
       "                        <br/>Last Modified: January 08, 2020\n",
       "                        <br/>2 comments, 39,09,873 views\n",
       "                    </div>\n",
       "                </div>\n",
       "                "
      ],
      "text/plain": [
       "<Item title:\"USA Freeway System\" type:Feature Layer Collection owner:esri_dm>"
      ]
     },
     "execution_count": 6,
     "metadata": {},
     "output_type": "execute_result"
    }
   ],
   "source": [
    "freeways = gis.content.get('91c6a5f6410b4991ab0db1d7c26daacb')\n",
    "freeways"
   ]
  },
  {
   "cell_type": "code",
   "execution_count": 7,
   "metadata": {},
   "outputs": [
    {
     "data": {
      "text/plain": [
       "[<FeatureLayer url:\"https://services.arcgis.com/P3ePLMYs2RVChkJx/arcgis/rest/services/USA_Freeway_System/FeatureServer/1\">,\n",
       " <FeatureLayer url:\"https://services.arcgis.com/P3ePLMYs2RVChkJx/arcgis/rest/services/USA_Freeway_System/FeatureServer/2\">]"
      ]
     },
     "execution_count": 7,
     "metadata": {},
     "output_type": "execute_result"
    }
   ],
   "source": [
    "freeways.layers "
   ]
  },
  {
   "cell_type": "code",
   "execution_count": 8,
   "metadata": {},
   "outputs": [
    {
     "name": "stdout",
     "output_type": "stream",
     "text": [
      "USA Freeway System (over 1:500k)\n",
      "USA Freeway System (below 1:500k)\n"
     ]
    }
   ],
   "source": [
    "for lyr in freeways.layers:\n",
    "    print(lyr.properties.name)"
   ]
  },
  {
   "cell_type": "code",
   "execution_count": 9,
   "metadata": {},
   "outputs": [],
   "source": [
    "from arcgis.features import FeatureLayerCollection"
   ]
  },
  {
   "cell_type": "code",
   "execution_count": 10,
   "metadata": {},
   "outputs": [
    {
     "ename": "AttributeError",
     "evalue": "'PropertyMap' instance has no attribute 'layers'",
     "output_type": "error",
     "traceback": [
      "\u001b[1;31m---------------------------------------------------------------------------\u001b[0m",
      "\u001b[1;31mAttributeError\u001b[0m                            Traceback (most recent call last)",
      "\u001b[1;32m<ipython-input-10-dcc64fb15710>\u001b[0m in \u001b[0;36m<module>\u001b[1;34m\u001b[0m\n\u001b[0;32m      1\u001b[0m \u001b[0mfs_url\u001b[0m \u001b[1;33m=\u001b[0m \u001b[1;34m'http://sampleserver3.arcgisonline.com/ArcGIS/rest/services/SanFrancisco/311Incidents/FeatureServer'\u001b[0m\u001b[1;33m\u001b[0m\u001b[1;33m\u001b[0m\u001b[0m\n\u001b[1;32m----> 2\u001b[1;33m \u001b[0msanfran\u001b[0m \u001b[1;33m=\u001b[0m \u001b[0mFeatureLayerCollection\u001b[0m\u001b[1;33m(\u001b[0m\u001b[0mfs_url\u001b[0m\u001b[1;33m)\u001b[0m\u001b[1;33m\u001b[0m\u001b[1;33m\u001b[0m\u001b[0m\n\u001b[0m",
      "\u001b[1;32m~\\anaconda3\\lib\\site-packages\\arcgis\\features\\layer.py\u001b[0m in \u001b[0;36m__init__\u001b[1;34m(self, url, gis)\u001b[0m\n\u001b[0;32m   3646\u001b[0m             \u001b[1;32mpass\u001b[0m\u001b[1;33m\u001b[0m\u001b[1;33m\u001b[0m\u001b[0m\n\u001b[0;32m   3647\u001b[0m \u001b[1;33m\u001b[0m\u001b[0m\n\u001b[1;32m-> 3648\u001b[1;33m         \u001b[0mself\u001b[0m\u001b[1;33m.\u001b[0m\u001b[0m_populate_layers\u001b[0m\u001b[1;33m(\u001b[0m\u001b[1;33m)\u001b[0m\u001b[1;33m\u001b[0m\u001b[1;33m\u001b[0m\u001b[0m\n\u001b[0m\u001b[0;32m   3649\u001b[0m         \u001b[0mself\u001b[0m\u001b[1;33m.\u001b[0m\u001b[0m_admin\u001b[0m \u001b[1;33m=\u001b[0m \u001b[1;32mNone\u001b[0m\u001b[1;33m\u001b[0m\u001b[1;33m\u001b[0m\u001b[0m\n\u001b[0;32m   3650\u001b[0m         \u001b[1;32mtry\u001b[0m\u001b[1;33m:\u001b[0m\u001b[1;33m\u001b[0m\u001b[1;33m\u001b[0m\u001b[0m\n",
      "\u001b[1;32m~\\anaconda3\\lib\\site-packages\\arcgis\\features\\layer.py\u001b[0m in \u001b[0;36m_populate_layers\u001b[1;34m(self)\u001b[0m\n\u001b[0;32m   3662\u001b[0m         \u001b[0mtables\u001b[0m \u001b[1;33m=\u001b[0m \u001b[1;33m[\u001b[0m\u001b[1;33m]\u001b[0m\u001b[1;33m\u001b[0m\u001b[1;33m\u001b[0m\u001b[0m\n\u001b[0;32m   3663\u001b[0m \u001b[1;33m\u001b[0m\u001b[0m\n\u001b[1;32m-> 3664\u001b[1;33m         \u001b[1;32mfor\u001b[0m \u001b[0mlyr\u001b[0m \u001b[1;32min\u001b[0m \u001b[0mself\u001b[0m\u001b[1;33m.\u001b[0m\u001b[0mproperties\u001b[0m\u001b[1;33m.\u001b[0m\u001b[0mlayers\u001b[0m\u001b[1;33m:\u001b[0m\u001b[1;33m\u001b[0m\u001b[1;33m\u001b[0m\u001b[0m\n\u001b[0m\u001b[0;32m   3665\u001b[0m             \u001b[0mlyr\u001b[0m \u001b[1;33m=\u001b[0m \u001b[0mFeatureLayer\u001b[0m\u001b[1;33m(\u001b[0m\u001b[0mself\u001b[0m\u001b[1;33m.\u001b[0m\u001b[0murl\u001b[0m \u001b[1;33m+\u001b[0m \u001b[1;34m\"/\"\u001b[0m \u001b[1;33m+\u001b[0m \u001b[0mstr\u001b[0m\u001b[1;33m(\u001b[0m\u001b[0mlyr\u001b[0m\u001b[1;33m.\u001b[0m\u001b[0mid\u001b[0m\u001b[1;33m)\u001b[0m\u001b[1;33m,\u001b[0m \u001b[0mself\u001b[0m\u001b[1;33m.\u001b[0m\u001b[0m_gis\u001b[0m\u001b[1;33m,\u001b[0m \u001b[0mself\u001b[0m\u001b[1;33m)\u001b[0m\u001b[1;33m\u001b[0m\u001b[1;33m\u001b[0m\u001b[0m\n\u001b[0;32m   3666\u001b[0m             \u001b[0mlayers\u001b[0m\u001b[1;33m.\u001b[0m\u001b[0mappend\u001b[0m\u001b[1;33m(\u001b[0m\u001b[0mlyr\u001b[0m\u001b[1;33m)\u001b[0m\u001b[1;33m\u001b[0m\u001b[1;33m\u001b[0m\u001b[0m\n",
      "\u001b[1;32m~\\anaconda3\\lib\\site-packages\\arcgis\\_impl\\common\\_mixins.py\u001b[0m in \u001b[0;36m__getattr__\u001b[1;34m(self, key)\u001b[0m\n\u001b[0;32m     80\u001b[0m         \"\"\"\n\u001b[0;32m     81\u001b[0m         \u001b[1;32mif\u001b[0m \u001b[0mkey\u001b[0m \u001b[1;32mnot\u001b[0m \u001b[1;32min\u001b[0m \u001b[0mself\u001b[0m \u001b[1;32mor\u001b[0m \u001b[1;32mnot\u001b[0m \u001b[0mself\u001b[0m\u001b[1;33m.\u001b[0m\u001b[0m_valid_name\u001b[0m\u001b[1;33m(\u001b[0m\u001b[0mkey\u001b[0m\u001b[1;33m)\u001b[0m\u001b[1;33m:\u001b[0m\u001b[1;33m\u001b[0m\u001b[1;33m\u001b[0m\u001b[0m\n\u001b[1;32m---> 82\u001b[1;33m             raise AttributeError(\n\u001b[0m\u001b[0;32m     83\u001b[0m                 \"'{cls}' instance has no attribute '{name}'\".format(\n\u001b[0;32m     84\u001b[0m                     \u001b[0mcls\u001b[0m\u001b[1;33m=\u001b[0m\u001b[0mself\u001b[0m\u001b[1;33m.\u001b[0m\u001b[0m__class__\u001b[0m\u001b[1;33m.\u001b[0m\u001b[0m__name__\u001b[0m\u001b[1;33m,\u001b[0m \u001b[0mname\u001b[0m\u001b[1;33m=\u001b[0m\u001b[0mkey\u001b[0m\u001b[1;33m\u001b[0m\u001b[1;33m\u001b[0m\u001b[0m\n",
      "\u001b[1;31mAttributeError\u001b[0m: 'PropertyMap' instance has no attribute 'layers'"
     ]
    }
   ],
   "source": [
    "fs_url = 'http://sampleserver3.arcgisonline.com/ArcGIS/rest/services/SanFrancisco/311Incidents/FeatureServer'\n",
    "sanfran = FeatureLayerCollection(fs_url)"
   ]
  },
  {
   "cell_type": "code",
   "execution_count": 11,
   "metadata": {},
   "outputs": [],
   "source": [
    "from arcgis.features import FeatureLayer"
   ]
  },
  {
   "cell_type": "code",
   "execution_count": 12,
   "metadata": {},
   "outputs": [
    {
     "data": {
      "text/plain": [
       "<FeatureLayer url:\"http://sampleserver3.arcgisonline.com/ArcGIS/rest/services/SanFrancisco/311Incidents/FeatureServer/0\">"
      ]
     },
     "execution_count": 12,
     "metadata": {},
     "output_type": "execute_result"
    }
   ],
   "source": [
    "\n",
    "lyr_url = 'http://sampleserver3.arcgisonline.com/ArcGIS/rest/services/SanFrancisco/311Incidents/FeatureServer/0'\n",
    "\n",
    "layer = FeatureLayer(lyr_url)\n",
    "layer"
   ]
  },
  {
   "cell_type": "code",
   "execution_count": 15,
   "metadata": {},
   "outputs": [
    {
     "data": {
      "application/vnd.jupyter.widget-view+json": {
       "model_id": "4ade9e44e4d240be878ba578391cb017",
       "version_major": 2,
       "version_minor": 0
      },
      "text/plain": [
       "MapView(layout=Layout(height='400px', width='100%'))"
      ]
     },
     "metadata": {},
     "output_type": "display_data"
    },
    {
     "data": {
      "text/html": [
       "<div class=\"map-static-img-preview-4d7ee7c7-f105-4854-971e-754363cea6de\"><img src=\"\"></img></div>"
      ],
      "text/plain": [
       "<IPython.core.display.HTML object>"
      ]
     },
     "metadata": {},
     "output_type": "display_data"
    },
    {
     "data": {
      "text/html": [
       "<div class=\"map-html-embed-preview-4d7ee7c7-f105-4854-971e-754363cea6de\"></div>"
      ],
      "text/plain": [
       "<IPython.core.display.HTML object>"
      ]
     },
     "metadata": {},
     "output_type": "display_data"
    }
   ],
   "source": [
    "map4 = gis.map(\"India\", 2)\n",
    "\n",
    "map4_renderer = {\"renderer\": \"autocast\", #This tells python to use JS autocasting\n",
    "                 \"type\": \"classBreaks\",  \n",
    "                 \"field\":\"POP2025\",\n",
    "                 \"transparency\":80,\n",
    "                 \"minValue\":-9007199254740991}\n",
    "\n",
    "map4_renderer[\"visualVariables\"] = [{   \"type\": \"colorInfo\",\n",
    "                                        \"field\": \"POP2025\",\n",
    "                                        \"normalizationField\": \"POP2015\",\n",
    "                                        \"stops\": [\n",
    "                                            {   \"value\": 1.12,\n",
    "                                                \"color\": [230,97,1,255],\n",
    "                                                \"label\": \"< 112%\"\n",
    "                                            },\n",
    "                                            {   \"value\": 1.1800000000000002,\n",
    "                                                \"color\": [253,184,99,255],\n",
    "                                                \"label\": \"112% ~ 124%\"\n",
    "                                            },\n",
    "                                            {   \"value\": 1.24,\n",
    "                                                \"color\": [247,247,247,255],\n",
    "                                                \"label\": \"124%\"\n",
    "                                            },\n",
    "                                            {   \"value\": 1.3,\n",
    "                                                \"color\": [178,171,210,255],\n",
    "                                                \"label\": \"124% ~ 136%\"\n",
    "                                            },\n",
    "                                            {   \"value\": 1.36,\n",
    "                                                \"color\": [94,60,153,255],\n",
    "                                                \"label\": \"> 136%\"\n",
    "                                            }]\n",
    "                                    }]\n",
    "\n",
    "map4_renderer[\"classBreakInfos\"] = [{   \"symbol\": {\n",
    "                                            \"color\": [170,170,170,255],\n",
    "                                            \"size\": 10.5,\n",
    "                                            \"angle\": 0,\n",
    "                                            \"xoffset\": 0,\n",
    "                                            \"yoffset\": 0,\n",
    "                                            \"type\": \"esriSMS\",\n",
    "                                            \"style\": \"esriSMSCircle\",\n",
    "                                            \"outline\": {\n",
    "                                                \"color\": [153,153,153,255],\n",
    "                                                \"width\": 0.375,\n",
    "                                                \"type\": \"esriSLS\",\n",
    "                                                \"style\": \"esriSLSSolid\"\n",
    "                                            }\n",
    "                                        },\n",
    "                                        \"classMaxValue\": 9007199254740991\n",
    "                                    }]\n",
    "\n",
    "world_flayer = FeatureLayer(\"http://services.arcgis.com/nGt4QxSblgDfeJn9/arcgis/rest/services/World_LargestUrbanAreas_fs/FeatureServer/0\")\n",
    "\n",
    "map4.add_layer(world_flayer,\n",
    "               { \"type\": \"FeatureLayer\",\n",
    "                 \"renderer\": map4_renderer,\n",
    "                 \"field_name\":\"POP2025\",\n",
    "                 \"normalizationType\": \"esriNormalizeByField\",\n",
    "                 \"normalizationField\": \"POP2015\"})\n",
    "\n",
    "map4"
   ]
  },
  {
   "cell_type": "code",
   "execution_count": null,
   "metadata": {},
   "outputs": [],
   "source": []
  }
 ],
 "metadata": {
  "kernelspec": {
   "display_name": "Python 3",
   "language": "python",
   "name": "python3"
  },
  "language_info": {
   "codemirror_mode": {
    "name": "ipython",
    "version": 3
   },
   "file_extension": ".py",
   "mimetype": "text/x-python",
   "name": "python",
   "nbconvert_exporter": "python",
   "pygments_lexer": "ipython3",
   "version": "3.8.5"
  }
 },
 "nbformat": 4,
 "nbformat_minor": 4
}
