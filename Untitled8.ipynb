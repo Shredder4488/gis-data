{
 "cells": [
  {
   "cell_type": "code",
   "execution_count": 2,
   "metadata": {},
   "outputs": [],
   "source": [
    "from arcgis.gis import GIS"
   ]
  },
  {
   "cell_type": "code",
   "execution_count": 3,
   "metadata": {},
   "outputs": [],
   "source": [
    "gis = GIS()"
   ]
  },
  {
   "cell_type": "code",
   "execution_count": 4,
   "metadata": {},
   "outputs": [],
   "source": [
    "gis?"
   ]
  },
  {
   "cell_type": "code",
   "execution_count": 18,
   "metadata": {},
   "outputs": [],
   "source": [
    "m = gis.map('East Godavri,Andara Pradesh,India')"
   ]
  },
  {
   "cell_type": "code",
   "execution_count": 19,
   "metadata": {},
   "outputs": [
    {
     "data": {
      "application/vnd.jupyter.widget-view+json": {
       "model_id": "9f8b26f79bb147519ef0670c29d7587a",
       "version_major": 2,
       "version_minor": 0
      },
      "text/plain": [
       "MapView(layout=Layout(height='400px', width='100%'))"
      ]
     },
     "metadata": {},
     "output_type": "display_data"
    },
    {
     "data": {
      "text/html": [
       "<div class=\"map-static-img-preview-31a57b8f-c577-4df0-8c7e-d4a3c358d09f\"><img src=\"\"></img></div>"
      ],
      "text/plain": [
       "<IPython.core.display.HTML object>"
      ]
     },
     "metadata": {},
     "output_type": "display_data"
    },
    {
     "data": {
      "text/html": [
       "<div class=\"map-html-embed-preview-31a57b8f-c577-4df0-8c7e-d4a3c358d09f\"></div>"
      ],
      "text/plain": [
       "<IPython.core.display.HTML object>"
      ]
     },
     "metadata": {},
     "output_type": "display_data"
    }
   ],
   "source": [
    "m"
   ]
  },
  {
   "cell_type": "code",
   "execution_count": 7,
   "metadata": {},
   "outputs": [],
   "source": [
    "from arcgis.gis import GIS\n",
    "gis = GIS(url='https://pythonapi.playground.esri.com/portal', username='arcgis_python', password='amazing_arcgis_123')"
   ]
  },
  {
   "cell_type": "code",
   "execution_count": 8,
   "metadata": {},
   "outputs": [
    {
     "data": {
      "text/plain": [
       "arcgis.gis.ContentManager"
      ]
     },
     "execution_count": 8,
     "metadata": {},
     "output_type": "execute_result"
    }
   ],
   "source": [
    "\n",
    "type(gis.content)"
   ]
  },
  {
   "cell_type": "code",
   "execution_count": 9,
   "metadata": {},
   "outputs": [
    {
     "data": {
      "text/plain": [
       "[<Item title:\"Ports in the Western US\" type:Feature Layer Collection owner:api_data_owner>]"
      ]
     },
     "execution_count": 9,
     "metadata": {},
     "output_type": "execute_result"
    }
   ],
   "source": [
    "search_result = gis.content.search(query=\"title:Ports along US West Coast\", item_type=\"Feature Layer\")\n",
    "search_result"
   ]
  },
  {
   "cell_type": "code",
   "execution_count": 10,
   "metadata": {},
   "outputs": [
    {
     "data": {
      "text/plain": [
       "[<Item title:\"costpath_as_polyline20200819184047\" type:Feature Layer Collection owner:arcgis_python>,\n",
       " <Item title:\"487a9c431d294138add355b4d9d6df06\" type:Feature Layer Collection owner:arcgis_python>,\n",
       " <Item title:\"costpath_as_polyline20201011232636\" type:Feature Layer Collection owner:arcgis_python>,\n",
       " <Item title:\"convert_raster_to_feature_20200822160132\" type:Feature Layer Collection owner:arcgis_python>,\n",
       " <Item title:\"RasterToFeature_G32033\" type:Feature Layer Collection owner:arcgis_python>,\n",
       " <Item title:\"RasterToFeature_OMQSCG\" type:Feature Layer Collection owner:arcgis_python>,\n",
       " <Item title:\"drone_d_features\" type:Feature Layer Collection owner:api_data_owner>,\n",
       " <Item title:\"05408555bdef418f8276f8d13124a0f4\" type:Feature Layer Collection owner:arcgis_python>,\n",
       " <Item title:\"afa0492895e4401f9e0f152d281c7ad6\" type:Feature Layer Collection owner:arcgis_python>,\n",
       " <Item title:\"c842d791e3594d58b600fda73c86da19\" type:Feature Layer Collection owner:arcgis_python>]"
      ]
     },
     "execution_count": 10,
     "metadata": {},
     "output_type": "execute_result"
    }
   ],
   "source": [
    "# search and list all feature layers in my contents\n",
    "search_result = gis.content.search(query=\"\", item_type=\"Feature Layer\")\n",
    "search_result"
   ]
  },
  {
   "cell_type": "code",
   "execution_count": 20,
   "metadata": {},
   "outputs": [
    {
     "ename": "RuntimeError",
     "evalue": "File(C:/Users/parul/anaconda3/machine learning and python projects/Untitled Folder/Test_Service_File_geodatabase.gdb) not found.",
     "output_type": "error",
     "traceback": [
      "\u001b[1;31m---------------------------------------------------------------------------\u001b[0m",
      "\u001b[1;31mRuntimeError\u001b[0m                              Traceback (most recent call last)",
      "\u001b[1;32m<ipython-input-20-a1a36fea4205>\u001b[0m in \u001b[0;36m<module>\u001b[1;34m\u001b[0m\n\u001b[1;32m----> 1\u001b[1;33m shp_item = gis.content.add(\n\u001b[0m\u001b[0;32m      2\u001b[0m     item_properties={\n\u001b[0;32m      3\u001b[0m         \u001b[1;34m'title'\u001b[0m \u001b[1;33m:\u001b[0m \u001b[1;34m'Test File'\u001b[0m\u001b[1;33m,\u001b[0m\u001b[1;33m\u001b[0m\u001b[1;33m\u001b[0m\u001b[0m\n\u001b[0;32m      4\u001b[0m         \u001b[1;34m'type'\u001b[0m \u001b[1;33m:\u001b[0m \u001b[1;34m'Shapefile'\u001b[0m\u001b[1;33m,\u001b[0m\u001b[1;33m\u001b[0m\u001b[1;33m\u001b[0m\u001b[0m\n\u001b[0;32m      5\u001b[0m         \u001b[1;34m'tags'\u001b[0m \u001b[1;33m:\u001b[0m \u001b[1;33m[\u001b[0m\u001b[1;34m'boundary'\u001b[0m\u001b[1;33m,\u001b[0m\u001b[1;34m'Andra Pradesh'\u001b[0m\u001b[1;33m,\u001b[0m\u001b[1;34m'India'\u001b[0m\u001b[1;33m]\u001b[0m\u001b[1;33m\u001b[0m\u001b[1;33m\u001b[0m\u001b[0m\n",
      "\u001b[1;32m~\\anaconda3\\lib\\site-packages\\arcgis\\gis\\__init__.py\u001b[0m in \u001b[0;36madd\u001b[1;34m(self, item_properties, data, thumbnail, metadata, owner, folder, item_id, **kwargs)\u001b[0m\n\u001b[0;32m   4905\u001b[0m                 \u001b[0mitem_properties\u001b[0m\u001b[1;33m[\u001b[0m\u001b[1;34m\"fileName\"\u001b[0m\u001b[1;33m]\u001b[0m \u001b[1;33m=\u001b[0m \u001b[0mos\u001b[0m\u001b[1;33m.\u001b[0m\u001b[0mpath\u001b[0m\u001b[1;33m.\u001b[0m\u001b[0mbasename\u001b[0m\u001b[1;33m(\u001b[0m\u001b[0mdata\u001b[0m\u001b[1;33m)\u001b[0m\u001b[1;33m\u001b[0m\u001b[1;33m\u001b[0m\u001b[0m\n\u001b[0;32m   4906\u001b[0m \u001b[1;33m\u001b[0m\u001b[0m\n\u001b[1;32m-> 4907\u001b[1;33m             itemid = self._portal.add_item(\n\u001b[0m\u001b[0;32m   4908\u001b[0m                 \u001b[0mitem_properties\u001b[0m\u001b[1;33m,\u001b[0m \u001b[0mdata\u001b[0m\u001b[1;33m,\u001b[0m \u001b[0mthumbnail\u001b[0m\u001b[1;33m,\u001b[0m \u001b[0mmetadata\u001b[0m\u001b[1;33m,\u001b[0m \u001b[0mowner_name\u001b[0m\u001b[1;33m,\u001b[0m \u001b[0mfolder\u001b[0m\u001b[1;33m\u001b[0m\u001b[1;33m\u001b[0m\u001b[0m\n\u001b[0;32m   4909\u001b[0m             )\n",
      "\u001b[1;32m~\\anaconda3\\lib\\site-packages\\arcgis\\gis\\_impl\\_portalpy.py\u001b[0m in \u001b[0;36madd_item\u001b[1;34m(self, item_properties, data, thumbnail, metadata, owner, folder)\u001b[0m\n\u001b[0;32m    356\u001b[0m             \u001b[1;32melse\u001b[0m\u001b[1;33m:\u001b[0m\u001b[1;33m\u001b[0m\u001b[1;33m\u001b[0m\u001b[0m\n\u001b[0;32m    357\u001b[0m                 \u001b[1;32mif\u001b[0m \u001b[1;32mnot\u001b[0m \u001b[0mos\u001b[0m\u001b[1;33m.\u001b[0m\u001b[0mpath\u001b[0m\u001b[1;33m.\u001b[0m\u001b[0misfile\u001b[0m\u001b[1;33m(\u001b[0m\u001b[0mos\u001b[0m\u001b[1;33m.\u001b[0m\u001b[0mpath\u001b[0m\u001b[1;33m.\u001b[0m\u001b[0mabspath\u001b[0m\u001b[1;33m(\u001b[0m\u001b[0mdata\u001b[0m\u001b[1;33m)\u001b[0m\u001b[1;33m)\u001b[0m\u001b[1;33m:\u001b[0m\u001b[1;33m\u001b[0m\u001b[1;33m\u001b[0m\u001b[0m\n\u001b[1;32m--> 358\u001b[1;33m                     \u001b[1;32mraise\u001b[0m \u001b[0mRuntimeError\u001b[0m\u001b[1;33m(\u001b[0m\u001b[1;34m\"File(\"\u001b[0m \u001b[1;33m+\u001b[0m \u001b[0mdata\u001b[0m \u001b[1;33m+\u001b[0m \u001b[1;34m\") not found.\"\u001b[0m\u001b[1;33m)\u001b[0m\u001b[1;33m\u001b[0m\u001b[1;33m\u001b[0m\u001b[0m\n\u001b[0m\u001b[0;32m    359\u001b[0m             \u001b[0mfiles\u001b[0m\u001b[1;33m.\u001b[0m\u001b[0mappend\u001b[0m\u001b[1;33m(\u001b[0m\u001b[1;33m(\u001b[0m\u001b[1;34m\"file\"\u001b[0m\u001b[1;33m,\u001b[0m \u001b[0mdata\u001b[0m\u001b[1;33m,\u001b[0m \u001b[0mos\u001b[0m\u001b[1;33m.\u001b[0m\u001b[0mpath\u001b[0m\u001b[1;33m.\u001b[0m\u001b[0mbasename\u001b[0m\u001b[1;33m(\u001b[0m\u001b[0mdata\u001b[0m\u001b[1;33m)\u001b[0m\u001b[1;33m)\u001b[0m\u001b[1;33m)\u001b[0m\u001b[1;33m\u001b[0m\u001b[1;33m\u001b[0m\u001b[0m\n\u001b[0;32m    360\u001b[0m         \u001b[1;32mif\u001b[0m \u001b[0mmetadata\u001b[0m\u001b[1;33m:\u001b[0m\u001b[1;33m\u001b[0m\u001b[1;33m\u001b[0m\u001b[0m\n",
      "\u001b[1;31mRuntimeError\u001b[0m: File(C:/Users/parul/anaconda3/machine learning and python projects/Untitled Folder/Test_Service_File_geodatabase.gdb) not found."
     ]
    }
   ],
   "source": [
    "shp_item = gis.content.add(\n",
    "    item_properties={\n",
    "        'title' : 'Test File',\n",
    "        'type' : 'Shapefile',\n",
    "        'tags' : ['boundary','Andra Pradesh','India']\n",
    "        },\n",
    "    data = 'C:/Users/parul/anaconda3/machine learning and python projects/Untitled Folder/Test_Service_File_geodatabase.gdb'\n",
    ")\n",
    "shp_item"
   ]
  },
  {
   "cell_type": "code",
   "execution_count": null,
   "metadata": {},
   "outputs": [],
   "source": [
    "import com.esri.gdb._\n",
    "\n",
    "val path = \"C:/Users/parul/anaconda3/machine learning and python projects/Untitled Folder/Test_Service_File_geodatabase.gdb\"\n",
    "val name = \"Countries\"\n",
    "\n",
    "val spark = SparkSession.builder().getOrCreate()\n",
    "try\n",
    "{\n",
    "    spark\n",
    "      .read\n",
    "      .gdb(path, name)\n",
    "      .createTempView(name)\n",
    "\n",
    "    spark\n",
    "      .sql(s\"select CNTRY_NAME,SQKM from $name where SQKM < 10000.0 ORDER BY SQKM DESC LIMIT 10\")\n",
    "      .collect()\n",
    "      .foreach(println)\n",
    "}\n",
    "finally\n",
    "{\n",
    "    spark.stop()\n",
    "}"
   ]
  },
  {
   "cell_type": "code",
   "execution_count": 13,
   "metadata": {},
   "outputs": [
    {
     "data": {
      "text/html": [
       "<div class=\"item_container\" style=\"height: auto; overflow: hidden; border: 1px solid #cfcfcf; border-radius: 2px; background: #f6fafa; line-height: 1.21429em; padding: 10px;\">\n",
       "                    <div class=\"item_left\" style=\"width: 210px; float: left;\">\n",
       "                       <a href='https://pythonapi.playground.esri.com/portal/home/item.html?id=55a44599e5a64d4b92d59e76933785c4' target='_blank'>\n",
       "                        <img src='data:image/png;base64,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' width='200' height='133' class=\"itemThumbnail\">\n",
       "                       </a>\n",
       "                    </div>\n",
       "\n",
       "                    <div class=\"item_right\"     style=\"float: none; width: auto; overflow: hidden;\">\n",
       "                        <a href='https://pythonapi.playground.esri.com/portal/home/item.html?id=55a44599e5a64d4b92d59e76933785c4' target='_blank'><b>ArcGIS for Android</b>\n",
       "                        </a>\n",
       "                        <br/>ArcGIS for Android extends the reach of your GIS from the office to the field.  ArcGIS for Android includes an application that you can download from the Android Market.<img src='https://pythonapi.playground.esri.com/portal/home/js/jsapi/esri/css/images/item_type_icons/layers16.png' style=\"vertical-align:middle;\">Mobile Application by esri\n",
       "                        <br/>Last Modified: August 16, 2014\n",
       "                        <br/>0 comments, 0 views\n",
       "                    </div>\n",
       "                </div>\n",
       "                "
      ],
      "text/plain": [
       "<Item title:\"ArcGIS for Android\" type:Mobile Application owner:esri>"
      ]
     },
     "execution_count": 13,
     "metadata": {},
     "output_type": "execute_result"
    }
   ],
   "source": [
    "items = gis.content.search(\"owner: esri\",outside_org=True)\n",
    "items[0]"
   ]
  },
  {
   "cell_type": "code",
   "execution_count": null,
   "metadata": {},
   "outputs": [],
   "source": []
  }
 ],
 "metadata": {
  "kernelspec": {
   "display_name": "Python 3",
   "language": "python",
   "name": "python3"
  },
  "language_info": {
   "codemirror_mode": {
    "name": "ipython",
    "version": 3
   },
   "file_extension": ".py",
   "mimetype": "text/x-python",
   "name": "python",
   "nbconvert_exporter": "python",
   "pygments_lexer": "ipython3",
   "version": "3.8.5"
  }
 },
 "nbformat": 4,
 "nbformat_minor": 4
}
